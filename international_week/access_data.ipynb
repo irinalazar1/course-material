{
 "cells": [
  {
   "cell_type": "code",
   "execution_count": null,
   "metadata": {},
   "outputs": [],
   "source": [
    "import sqlite3\n",
    "import pandas as pd\n",
    "\n",
    "# Create an in-memory SQLite database\n",
    "conn = sqlite3.connect(':memory:')\n",
    "cursor = conn.cursor()\n",
    "\n",
    "# Execute the SQL file\n",
    "with open('data/data.sql', 'r') as sql_file:\n",
    "    sql_script = sql_file.read()\n",
    "cursor.executescript(sql_script)\n",
    "\n",
    "conn.commit()"
   ]
  },
  {
   "cell_type": "code",
   "execution_count": null,
   "metadata": {},
   "outputs": [],
   "source": [
    "# Basic Analysis\n",
    "def execute_query(query):\n",
    "    return pd.read_sql_query(query, conn)"
   ]
  },
  {
   "cell_type": "markdown",
   "metadata": {},
   "source": [
    "Below, you'll find a few sample (very basic) queries to get you started. Here you can see how we can use sql statements inside a Jupyter notebook."
   ]
  },
  {
   "cell_type": "code",
   "execution_count": null,
   "metadata": {},
   "outputs": [],
   "source": [
    "# Event Types and Counts\n",
    "event_counts = execute_query('''\n",
    "SELECT et.name, COUNT(*) AS event_count\n",
    "FROM matchevents me\n",
    "JOIN eventtypes et ON me.eventtype_id = et.eventtype_id\n",
    "GROUP BY et.name;\n",
    "''')\n",
    "print(\"\\nEvent Counts:\")\n",
    "print(event_counts)"
   ]
  },
  {
   "cell_type": "code",
   "execution_count": null,
   "metadata": {},
   "outputs": [],
   "source": [
    "# Team Scores\n",
    "team_scores = execute_query('''\n",
    "SELECT t.team_name, SUM(m.home_score) + SUM(m.away_score) AS total_team_score\n",
    "FROM matches m\n",
    "JOIN teams t ON t.team_id = m.home_team_id OR t.team_id = m.away_team_id\n",
    "GROUP BY t.team_name\n",
    "''')\n",
    "print(\"\\nTeam Scores:\")\n",
    "print(team_scores)"
   ]
  }
 ],
 "metadata": {
  "kernelspec": {
   "display_name": "venv",
   "language": "python",
   "name": "python3"
  },
  "language_info": {
   "codemirror_mode": {
    "name": "ipython",
    "version": 3
   },
   "file_extension": ".py",
   "mimetype": "text/x-python",
   "name": "python",
   "nbconvert_exporter": "python",
   "pygments_lexer": "ipython3",
   "version": "3.11.0"
  }
 },
 "nbformat": 4,
 "nbformat_minor": 2
}
