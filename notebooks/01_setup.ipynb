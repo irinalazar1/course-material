{
 "cells": [
  {
   "cell_type": "markdown",
   "metadata": {},
   "source": [
    "### Virtual Environments & Dependency Management\n",
    "\n",
    "# Why Use a Virtual Environment?\n",
    "\n",
    "A **virtual environment** is an isolated Python environment that allows you to:\n",
    "- Keep project dependencies separate from system-wide packages\n",
    "- Avoid version conflicts between different projects\n",
    "- Make projects more reproducible for others\n",
    "\n",
    "Using virtual environments is a **best practice** in Python development, especially when working on AI, machine learning, and data science projects.\n",
    "\n",
    "---\n"
   ]
  },
  {
   "cell_type": "markdown",
   "metadata": {},
   "source": [
    "## Step 1: Checking Python Version\n",
    "Before creating a virtual environment, check if Python is installed and which version you are using. Open a terminal and execute the following command:\n",
    "\n",
    "```bash\n",
    "python --version\n",
    "```\n",
    "\n",
    "Most students are probably working with Python 3.10 or higher now. Sometimes the latest Python releases aren't yet fully supported for all packages. For now, 3.13 is not recommended for this course. You can still have Python 3.13 installed on your machine, but select an earlier version for your venv.\n",
    "\n",
    "---"
   ]
  },
  {
   "cell_type": "markdown",
   "metadata": {},
   "source": [
    "## Step 2: Creating a Virtual Environment\n",
    "You can create a virtual environment using the built-in `venv` module. These instructions assume you're working in the terminal. However, you may recall, it's also possible to create a virtual environment using the VS Code interface.\n",
    "\n",
    "### Windows:\n",
    "```bash\n",
    "python -m venv venv\n",
    "```\n",
    "\n",
    "### macOS/Linux:\n",
    "```bash\n",
    "python3 -m venv venv\n",
    "```\n",
    "\n",
    "\n",
    "This will create a folder called `venv/` that contains a clean Python installation. You can chance 'venv' in the examples above to any other name if you wish. For example, here it might make sense to name it ai-venv. You can also add a `.` in front of the name `.venv` or `.ai-venv` to create a hidden folder. Some developers prefer to keep it hidden so the project folder is cleaner.\n",
    "\n",
    "---"
   ]
  },
  {
   "cell_type": "markdown",
   "metadata": {},
   "source": [
    "\n",
    "## Step 3: Activating the Virtual Environment\n",
    "Once created, you need to **activate** the environment. VS Code might also automatically offer to activate it for you, but then it doesn't always show that you're working in the venv in the terminal, so I prefer to activate the venv myself.\n",
    "\n",
    "### Windows (Command Prompt):\n",
    "```bash\n",
    "venv\\Scripts\\activate\n",
    "```\n",
    "\n",
    "### Windows (PowerShell):\n",
    "```bash\n",
    "venv\\Scripts\\Activate.ps1\n",
    "```\n",
    "\n",
    "### macOS/Linux:\n",
    "```bash\n",
    "source venv/bin/activate\n",
    "```\n",
    "\n",
    "After activation, you should see `(venv)` at the beginning of your terminal prompt, indicating the virtual environment is active.\n",
    "\n",
    "---"
   ]
  },
  {
   "cell_type": "markdown",
   "metadata": {},
   "source": [
    "\n",
    "## Step 4: Installing Dependencies from `requirements.txt`\n",
    "This part is likely new for many students. This is typically how we work with virtual environments in real life situations where multiple people are working on the same project. A requirements.txt file keeps track of the packages necessary for this project. If a project has a `requirements.txt` file listing necessary packages, you can install all of them using:\n",
    "\n",
    "```bash\n",
    "pip install -r requirements.txt\n",
    "```\n",
    "\n",
    "To check installed packages:\n",
    "```python\n",
    "!pip list\n",
    "```\n",
    "\n",
    "### Updates to Dependencies\n",
    "\n",
    "If new packages are needed later, we will push a new requirements.txt file. Then you can install only the new packages without reinstalling everything with the following command:\n",
    "```bash\n",
    "pip install -r requirements.txt --upgrade\n",
    "```\n",
    "\n",
    "### More Refined Approaches\n",
    "\n",
    "This a helpful way to ensure that everyone has the necessary packages. There are even more refined approaches you may encounter in an internship or job, such as (simpler) `pip-tools` or (more advanced) `poetry` to help manage dependencies.\n",
    "\n",
    "---\n"
   ]
  },
  {
   "cell_type": "markdown",
   "metadata": {},
   "source": [
    "\n",
    "## Step 5: Deactivating the Virtual Environment\n",
    "When you're done working, deactivate the virtual environment:\n",
    "```bash\n",
    "deactivate\n",
    "```\n",
    "\n",
    "---\n"
   ]
  },
  {
   "cell_type": "markdown",
   "metadata": {},
   "source": [
    "\n",
    "## Step 6: Adding New Dependencies\n",
    "For the course material, you shouldn't need to update the requirements.txt file yourself. However, for your AI project, you may find it convenient to work in a similar way. If you install additional packages, update `requirements.txt` so others can use the same setup:\n",
    "\n",
    "```bash\n",
    "pip freeze > requirements.txt\n",
    "```\n",
    "\n",
    "This updates the file with all installed packages and versions.\n",
    "\n",
    "---\n"
   ]
  },
  {
   "cell_type": "markdown",
   "metadata": {},
   "source": [
    "\n",
    "## Summary\n",
    "- **Create** a virtual environment: `python -m venv venv`\n",
    "- **Activate** it: `source venv/bin/activate` (Mac/Linux) or `venv\\Scripts\\Activate.ps1` (Windows)\n",
    "- **Install dependencies**: `pip install -r requirements.txt`\n",
    "- **Deactivate** when finished: `deactivate`\n",
    "- **Update dependencies**: `pip freeze > requirements.txt`\n",
    "\n",
    "Using a virtual environment and especially a dependency management tool ensures **reproducibility** and prevents dependency conflicts in Python projects.\n",
    "\n",
    "---\n"
   ]
  }
 ],
 "metadata": {
  "kernelspec": {
   "display_name": ".venv",
   "language": "python",
   "name": "python3"
  },
  "language_info": {
   "codemirror_mode": {
    "name": "ipython",
    "version": 3
   },
   "file_extension": ".py",
   "mimetype": "text/x-python",
   "name": "python",
   "nbconvert_exporter": "python",
   "pygments_lexer": "ipython3",
   "version": "3.13.0"
  }
 },
 "nbformat": 4,
 "nbformat_minor": 2
}
