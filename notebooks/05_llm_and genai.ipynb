{
 "cells": [
  {
   "cell_type": "markdown",
   "metadata": {},
   "source": [
    "# Large Language Models and Generative AI\n",
    "\n",
    "In the last notebook, we saw how Natural Language Processing (NLP) has developed up to and including Transformers. In this lab, we'll investigae Large Language Models (LLMs) and Generative AI."
   ]
  },
  {
   "cell_type": "markdown",
   "metadata": {},
   "source": [
    "## I. Brief Review of Transformer Architecture\n",
    "\n",
    "#### Limitations of RNNs for Language Tasks\n",
    "\n",
    "While RNNs (and their variants like LSTM and GRU) were a significant step forward for NLP, they had several limitations:\n",
    "\n",
    "1. Sequential processing: Processing words one by one, making parallelization difficult\n",
    "2. Vanishing/exploding gradients: Despite LSTM/GRU improvements, still an issue for very long sequences\n",
    "3. Limited context window: Practical difficulty in capturing long-range dependencies\n",
    "4. Computational efficiency: Training RNNs is slow due to their sequential nature\n",
    "\n",
    "#### Attention Mechanisms\n",
    "Attention mechanisms were developed to address these limitations by allowing the model to focus on different parts of the input sequence when producing each part of the output. \n",
    "\n",
    "- Focusing on Relevant Information: allow the model to selectively focus on what's important\n",
    "- Dynamic Weighting: \"attention weights\" determine how much attention should be paid to each input element\n",
    "- Improving Long-Range Dependencies: help alleviate vanishing gradients\n",
    "- Enabling Parallelization: introduction of transformers allows for more efficient processing\n",
    "\n",
    "#### Introduction of Transformers\n",
    "\n",
    "Transformers are a revolutionary type of neural network architecture that have significantly advanced Natural Language Processing (NLP). Transformers rely heavily on \"attention mechanisms,\" which allow the model to weigh the importance of different words in a sentence relative to each other. This enables the model to understand context and relationships within the text. They ditch the sequential processing of recurrent neural networks (RNNs) and instead process the entire input in parallel.\n",
    "\n",
    "##### Key Features:\n",
    "- Self-Attention: This allows the model to understand the relationships between different words within the same sentence.\n",
    "- Parallel Processing: Unlike RNNs, transformers can process all words in a sequence simultaneously, leading to significant speed improvements.\n",
    "- Encoder-Decoder Architecture (often): Many transformer models use an encoder to process the input and a decoder to generate the output.\n",
    "\n",
    "##### Contributions to NLP:\n",
    "- Improved Accuracy: Transformers have achieved state-of-the-art results on a wide range of NLP tasks, including machine translation, text summarization, and question answering.   \n",
    "- Larger Models and Datasets: Their parallel processing capabilities have enabled the training of much larger models on massive datasets, leading to better performance.\n",
    "- Pre-trained Models: Transformers have enabled the development of powerful pre-trained models like BERT, GPT, and T5, which can be fine-tuned for specific NLP tasks. This has significantly reduced the need for task-specific training data.\n",
    "- Generalization: Transformers have proven to generalize well to various NLP tasks, demonstrating their versatility and robustness.\n",
    "\n",
    "#### Towards Large Language Models\n",
    "\n",
    "Transformers were the crucial architectural innovation that made large language models (LLMs) possible.\n",
    "\n",
    "- Scalability:\n",
    "Transformers' parallel processing via attention allowed for training on massive datasets and scaling up model size significantly. RNNs, with their sequential nature, couldn't handle this.   \n",
    "- Contextual Understanding:\n",
    "The self-attention mechanism allowed models to capture complex, long-range dependencies in text, leading to a much deeper understanding of context. This is essential for generating coherent and relevant language.   \n",
    "- Pre-training and Fine-tuning:\n",
    "The transformer architecture facilitated the development of effective pre-training techniques. Models like BERT and GPT could be trained on vast amounts of unlabeled text, learning general language representations. These pre-trained models could then be fine-tuned for specific tasks with much less data.   \n",
    "- Generative Capabilities:\n",
    "Decoder-only transformer architectures, like GPT, demonstrated the ability to generate fluent and coherent text, paving the way for generative LLMs.\n",
    "- Efficient learning of relationships:\n",
    "The attention mechanism allows the model to learn the relationships between words in a sentence much more efficiently than previous methods. This efficiency is critical when training on very large datasets.\n",
    "\n",
    "In essence, transformers provided the necessary architecture to effectively train extremely large models on massive datasets, resulting in the emergence of powerful LLMs.\n",
    "\n",
    "Note: The GPT in ChatGPT that everyone knows now stands for Generative Pre-Trained Transformer."
   ]
  },
  {
   "cell_type": "markdown",
   "metadata": {},
   "source": [
    "## Large Language Models: Evolution and Architecture\n",
    "\n",
    "Large Language Models (LLMs) represent a significant leap forward in artificial intelligence, demonstrating remarkable capabilities in understanding and generating human-like text. Built upon the transformer architecture and trained on massive datasets, these models have the ability to perform a wide range of natural language processing tasks, from translation and summarization to creative writing and code generation. Their ability to capture complex linguistic patterns and generate coherent, contextually relevant responses has sparked widespread interest and exploration, pushing the boundaries of what's possible with AI. While still an evolving field, LLMs are rapidly transforming how we interact with and utilize language-based technology.\n",
    "\n",
    "#### Key Milestones in LLM Development\n",
    "\n",
    "##### Early Foundations:\n",
    "- Pre-2010s: Early NLP: Statistical language models, n-grams, and basic machine learning techniques. Early neural network applications in NLP.\n",
    "- Early 2010s: Rise of Deep Learning: Deep learning's success in image recognition sparks interest in NLP applications. RNNs gain traction for sequence modeling.\n",
    "##### The Transformer Revolution:\n",
    "- 2017: Transformer Architecture: Google introduces the Transformer, with its attention mechanism, enabling parallel processing. This is a watershed moment.\n",
    "- 2018: BERT: Google releases BERT (Bidirectional Encoder Representations from Transformers), demonstrating the power of pre-training on massive datasets.\n",
    "- 2019: GPT-2: OpenAI releases GPT-2, showcasing impressive text generation capabilities.\n",
    "##### The Era of LLMs:\n",
    "- 2020: GPT-3: OpenAI's GPT-3 significantly increases model size, leading to dramatic improvements in performance.\n",
    "- 2022: ChatGPT: OpenAI launches ChatGPT, bringing LLMs to mainstream attention with its conversational abilities.\n",
    "- 2023: GPT-4, Gemini, and Claude: OpenAI releases GPT-4, with enhanced reasoning and multimodal capabilities. Anthropic releases Claude, a strong competitor in the LLM space. Google announces Gemini, designed to understand and operate across various data formats, including text, code, images, and video.\n",
    "- 2024: GPT-4o: OpenAI releases GPT-4o, with improved multimodal capabilities.\n",
    "- 2025: Deepseek-R1: Deepseek releases Deepseek-R1, an advanced reasoning model."
   ]
  },
  {
   "cell_type": "markdown",
   "metadata": {},
   "source": [
    "#### Architecture of Modern LLMs\n",
    "\n",
    "The Transformer architecture, with its attention mechanism, has provided the foundation for various LLM types, each tailored for specific tasks. The key distinction lies in how the encoder and decoder components are utilized.\n",
    "\n",
    "##### Encoder-Only Models (e.g., BERT, RoBERTa, ALBERT):\n",
    "\n",
    "These models primarily focus on understanding the input text. The encoder processes the input sequence and generates contextualized representations of each token (word or subword).\n",
    "- Key Features:\n",
    "    - Bidirectional Attention: Encoder-only models utilize bidirectional attention, meaning they consider the context from both the left and right sides of each token. This allows for a deeper understanding of the relationships between words in a sentence.\n",
    "    - Masked Language Modeling (MLM): BERT-like models are often pre-trained using MLM, where a portion of the input is masked, and the model is trained to predict the missing words. This helps the model learn rich contextual representations.\n",
    "- Use Cases:\n",
    "    - Natural Language Understanding (NLU): Encoder-only models excel at tasks like:\n",
    "    - Text classification (e.g., sentiment analysis)\n",
    "    - Named entity recognition (NER)\n",
    "    - Question answering (when formulated as a classification task)\n",
    "    - Semantic similarity\n",
    "\n",
    "Encoder-only models are NOT inherently designed for text generation. They primarily provide contextual embeddings, which can then be used for downstream tasks.\n",
    "\n",
    "##### Decoder-Only Models (e.g., GPT series, LLaMA, Gemini when used in text generation mode)\n",
    "\n",
    "These models are designed for generative tasks. The decoder takes a sequence of tokens as input and predicts the next token in the sequence.\n",
    "\n",
    "- Key Features:\n",
    "    - Causal (or Autoregressive) Attention: Decoder-only models use causal attention, meaning they can only attend to tokens that precede the current token. This ensures that the model generates text in a sequential, left-to-right manner.\n",
    "    - Language Modeling: These models are typically pre-trained by predicting the next word in a sequence, effectively learning the probability distribution of language.\n",
    "- Use Cases:\n",
    "    - Natural Language Generation (NLG): Decoder-only models are ideal for:\n",
    "    - Text generation (e.g., creative writing, code generation)\n",
    "    - Chatbots and conversational AI\n",
    "    - Text summarization (when treated as a generation task)\n",
    "\n",
    "While they can understand context, Decoder-Only models' primary strength is generation. They may not be as effective as encoder-only models for tasks that require deep bidirectional understanding.\n",
    "\n",
    "##### Encoder-Decoder Models (e.g., T5, BART, Pegasus)\n",
    "\n",
    "These models combine the strengths of both encoders and decoders, making them versatile for a wide range of tasks involving text transformation.\n",
    "- Key Features:\n",
    "    - Encoder: Processes the input sequence and generates contextual representations.\n",
    "    - Decoder: Takes the encoder's output as input and generates the output sequence.\n",
    "    - Sequence-to-Sequence (Seq2Seq) Learning: These models are trained to map an input sequence to an output sequence, making them suitable for tasks where the input and output are different.\n",
    "- Use Cases:\n",
    "    - Text Transformation: Encoder-decoder models excel at:\n",
    "    - Machine translation\n",
    "    - Text summarization\n",
    "    - Text simplification\n",
    "    - Question answering (when generating the answer)\n",
    "\n",
    "Encoder-Decoder models are very versatile and can be used for a wide range of tasks. However, they are often more computationally expensive than encoder or decoder only models."
   ]
  },
  {
   "cell_type": "code",
   "execution_count": null,
   "metadata": {},
   "outputs": [
    {
     "name": "stdout",
     "output_type": "stream",
     "text": [
      "Requirement already satisfied: notebook in c:\\users\\u0086305\\documents\\advanced ai\\course-material\\venv\\lib\\site-packages (7.3.2)Note: you may need to restart the kernel to use updated packages.\n",
      "\n",
      "Collecting notebook\n",
      "  Downloading notebook-7.3.3-py3-none-any.whl.metadata (10 kB)\n",
      "Requirement already satisfied: jupyterlab in c:\\users\\u0086305\\documents\\advanced ai\\course-material\\venv\\lib\\site-packages (4.3.5)\n",
      "Collecting jupyterlab\n",
      "  Downloading jupyterlab-4.3.6-py3-none-any.whl.metadata (16 kB)\n",
      "Requirement already satisfied: jupyter-server<3,>=2.4.0 in c:\\users\\u0086305\\documents\\advanced ai\\course-material\\venv\\lib\\site-packages (from notebook) (2.15.0)\n",
      "Requirement already satisfied: jupyterlab-server<3,>=2.27.1 in c:\\users\\u0086305\\documents\\advanced ai\\course-material\\venv\\lib\\site-packages (from notebook) (2.27.3)\n",
      "Requirement already satisfied: notebook-shim<0.3,>=0.2 in c:\\users\\u0086305\\documents\\advanced ai\\course-material\\venv\\lib\\site-packages (from notebook) (0.2.4)\n",
      "Requirement already satisfied: tornado>=6.2.0 in c:\\users\\u0086305\\documents\\advanced ai\\course-material\\venv\\lib\\site-packages (from notebook) (6.4.2)\n",
      "Requirement already satisfied: async-lru>=1.0.0 in c:\\users\\u0086305\\documents\\advanced ai\\course-material\\venv\\lib\\site-packages (from jupyterlab) (2.0.4)\n",
      "Requirement already satisfied: httpx>=0.25.0 in c:\\users\\u0086305\\documents\\advanced ai\\course-material\\venv\\lib\\site-packages (from jupyterlab) (0.28.1)\n",
      "Requirement already satisfied: ipykernel>=6.5.0 in c:\\users\\u0086305\\documents\\advanced ai\\course-material\\venv\\lib\\site-packages (from jupyterlab) (6.29.5)\n",
      "Requirement already satisfied: jinja2>=3.0.3 in c:\\users\\u0086305\\documents\\advanced ai\\course-material\\venv\\lib\\site-packages (from jupyterlab) (3.1.5)\n",
      "Requirement already satisfied: jupyter-core in c:\\users\\u0086305\\documents\\advanced ai\\course-material\\venv\\lib\\site-packages (from jupyterlab) (5.7.2)\n",
      "Requirement already satisfied: jupyter-lsp>=2.0.0 in c:\\users\\u0086305\\documents\\advanced ai\\course-material\\venv\\lib\\site-packages (from jupyterlab) (2.2.5)\n",
      "Requirement already satisfied: packaging in c:\\users\\u0086305\\documents\\advanced ai\\course-material\\venv\\lib\\site-packages (from jupyterlab) (24.2)\n",
      "Requirement already satisfied: setuptools>=40.8.0 in c:\\users\\u0086305\\documents\\advanced ai\\course-material\\venv\\lib\\site-packages (from jupyterlab) (75.8.2)\n",
      "Requirement already satisfied: traitlets in c:\\users\\u0086305\\documents\\advanced ai\\course-material\\venv\\lib\\site-packages (from jupyterlab) (5.14.3)\n",
      "Requirement already satisfied: anyio in c:\\users\\u0086305\\documents\\advanced ai\\course-material\\venv\\lib\\site-packages (from httpx>=0.25.0->jupyterlab) (4.8.0)\n",
      "Requirement already satisfied: certifi in c:\\users\\u0086305\\documents\\advanced ai\\course-material\\venv\\lib\\site-packages (from httpx>=0.25.0->jupyterlab) (2025.1.31)\n",
      "Requirement already satisfied: httpcore==1.* in c:\\users\\u0086305\\documents\\advanced ai\\course-material\\venv\\lib\\site-packages (from httpx>=0.25.0->jupyterlab) (1.0.7)\n",
      "Requirement already satisfied: idna in c:\\users\\u0086305\\documents\\advanced ai\\course-material\\venv\\lib\\site-packages (from httpx>=0.25.0->jupyterlab) (3.10)\n",
      "Requirement already satisfied: h11<0.15,>=0.13 in c:\\users\\u0086305\\documents\\advanced ai\\course-material\\venv\\lib\\site-packages (from httpcore==1.*->httpx>=0.25.0->jupyterlab) (0.14.0)\n",
      "Requirement already satisfied: comm>=0.1.1 in c:\\users\\u0086305\\documents\\advanced ai\\course-material\\venv\\lib\\site-packages (from ipykernel>=6.5.0->jupyterlab) (0.2.2)\n",
      "Requirement already satisfied: debugpy>=1.6.5 in c:\\users\\u0086305\\documents\\advanced ai\\course-material\\venv\\lib\\site-packages (from ipykernel>=6.5.0->jupyterlab) (1.8.12)\n",
      "Requirement already satisfied: ipython>=7.23.1 in c:\\users\\u0086305\\documents\\advanced ai\\course-material\\venv\\lib\\site-packages (from ipykernel>=6.5.0->jupyterlab) (8.32.0)\n",
      "Requirement already satisfied: jupyter-client>=6.1.12 in c:\\users\\u0086305\\documents\\advanced ai\\course-material\\venv\\lib\\site-packages (from ipykernel>=6.5.0->jupyterlab) (8.6.3)\n",
      "Requirement already satisfied: matplotlib-inline>=0.1 in c:\\users\\u0086305\\documents\\advanced ai\\course-material\\venv\\lib\\site-packages (from ipykernel>=6.5.0->jupyterlab) (0.1.7)\n",
      "Requirement already satisfied: nest-asyncio in c:\\users\\u0086305\\documents\\advanced ai\\course-material\\venv\\lib\\site-packages (from ipykernel>=6.5.0->jupyterlab) (1.6.0)\n",
      "Requirement already satisfied: psutil in c:\\users\\u0086305\\documents\\advanced ai\\course-material\\venv\\lib\\site-packages (from ipykernel>=6.5.0->jupyterlab) (7.0.0)\n",
      "Requirement already satisfied: pyzmq>=24 in c:\\users\\u0086305\\documents\\advanced ai\\course-material\\venv\\lib\\site-packages (from ipykernel>=6.5.0->jupyterlab) (26.2.1)\n",
      "Requirement already satisfied: MarkupSafe>=2.0 in c:\\users\\u0086305\\documents\\advanced ai\\course-material\\venv\\lib\\site-packages (from jinja2>=3.0.3->jupyterlab) (3.0.2)\n",
      "Requirement already satisfied: platformdirs>=2.5 in c:\\users\\u0086305\\documents\\advanced ai\\course-material\\venv\\lib\\site-packages (from jupyter-core->jupyterlab) (4.3.6)\n",
      "Collecting pywin32>=300 (from jupyter-core->jupyterlab)\n",
      "  Downloading pywin32-310-cp311-cp311-win_amd64.whl.metadata (9.4 kB)\n",
      "Requirement already satisfied: argon2-cffi>=21.1 in c:\\users\\u0086305\\documents\\advanced ai\\course-material\\venv\\lib\\site-packages (from jupyter-server<3,>=2.4.0->notebook) (23.1.0)\n",
      "Requirement already satisfied: jupyter-events>=0.11.0 in c:\\users\\u0086305\\documents\\advanced ai\\course-material\\venv\\lib\\site-packages (from jupyter-server<3,>=2.4.0->notebook) (0.12.0)\n",
      "Requirement already satisfied: jupyter-server-terminals>=0.4.4 in c:\\users\\u0086305\\documents\\advanced ai\\course-material\\venv\\lib\\site-packages (from jupyter-server<3,>=2.4.0->notebook) (0.5.3)\n",
      "Requirement already satisfied: nbconvert>=6.4.4 in c:\\users\\u0086305\\documents\\advanced ai\\course-material\\venv\\lib\\site-packages (from jupyter-server<3,>=2.4.0->notebook) (7.16.6)\n",
      "Requirement already satisfied: nbformat>=5.3.0 in c:\\users\\u0086305\\documents\\advanced ai\\course-material\\venv\\lib\\site-packages (from jupyter-server<3,>=2.4.0->notebook) (5.10.4)\n",
      "Requirement already satisfied: overrides>=5.0 in c:\\users\\u0086305\\documents\\advanced ai\\course-material\\venv\\lib\\site-packages (from jupyter-server<3,>=2.4.0->notebook) (7.7.0)\n",
      "Requirement already satisfied: prometheus-client>=0.9 in c:\\users\\u0086305\\documents\\advanced ai\\course-material\\venv\\lib\\site-packages (from jupyter-server<3,>=2.4.0->notebook) (0.21.1)\n",
      "Collecting pywinpty>=2.0.1 (from jupyter-server<3,>=2.4.0->notebook)\n",
      "  Using cached pywinpty-2.0.15-cp311-cp311-win_amd64.whl.metadata (5.2 kB)\n",
      "Requirement already satisfied: send2trash>=1.8.2 in c:\\users\\u0086305\\documents\\advanced ai\\course-material\\venv\\lib\\site-packages (from jupyter-server<3,>=2.4.0->notebook) (1.8.3)\n",
      "Requirement already satisfied: terminado>=0.8.3 in c:\\users\\u0086305\\documents\\advanced ai\\course-material\\venv\\lib\\site-packages (from jupyter-server<3,>=2.4.0->notebook) (0.18.1)\n",
      "Requirement already satisfied: websocket-client>=1.7 in c:\\users\\u0086305\\documents\\advanced ai\\course-material\\venv\\lib\\site-packages (from jupyter-server<3,>=2.4.0->notebook) (1.8.0)\n",
      "Requirement already satisfied: babel>=2.10 in c:\\users\\u0086305\\documents\\advanced ai\\course-material\\venv\\lib\\site-packages (from jupyterlab-server<3,>=2.27.1->notebook) (2.17.0)\n",
      "Requirement already satisfied: json5>=0.9.0 in c:\\users\\u0086305\\documents\\advanced ai\\course-material\\venv\\lib\\site-packages (from jupyterlab-server<3,>=2.27.1->notebook) (0.10.0)\n",
      "Requirement already satisfied: jsonschema>=4.18.0 in c:\\users\\u0086305\\documents\\advanced ai\\course-material\\venv\\lib\\site-packages (from jupyterlab-server<3,>=2.27.1->notebook) (4.23.0)\n",
      "Requirement already satisfied: requests>=2.31 in c:\\users\\u0086305\\documents\\advanced ai\\course-material\\venv\\lib\\site-packages (from jupyterlab-server<3,>=2.27.1->notebook) (2.32.3)\n",
      "Requirement already satisfied: sniffio>=1.1 in c:\\users\\u0086305\\documents\\advanced ai\\course-material\\venv\\lib\\site-packages (from anyio->httpx>=0.25.0->jupyterlab) (1.3.1)\n",
      "Requirement already satisfied: typing_extensions>=4.5 in c:\\users\\u0086305\\documents\\advanced ai\\course-material\\venv\\lib\\site-packages (from anyio->httpx>=0.25.0->jupyterlab) (4.12.2)\n",
      "Requirement already satisfied: argon2-cffi-bindings in c:\\users\\u0086305\\documents\\advanced ai\\course-material\\venv\\lib\\site-packages (from argon2-cffi>=21.1->jupyter-server<3,>=2.4.0->notebook) (21.2.0)\n",
      "Requirement already satisfied: colorama in c:\\users\\u0086305\\documents\\advanced ai\\course-material\\venv\\lib\\site-packages (from ipython>=7.23.1->ipykernel>=6.5.0->jupyterlab) (0.4.6)\n",
      "Requirement already satisfied: decorator in c:\\users\\u0086305\\documents\\advanced ai\\course-material\\venv\\lib\\site-packages (from ipython>=7.23.1->ipykernel>=6.5.0->jupyterlab) (5.1.1)\n",
      "Requirement already satisfied: jedi>=0.16 in c:\\users\\u0086305\\documents\\advanced ai\\course-material\\venv\\lib\\site-packages (from ipython>=7.23.1->ipykernel>=6.5.0->jupyterlab) (0.19.2)\n",
      "Requirement already satisfied: prompt_toolkit<3.1.0,>=3.0.41 in c:\\users\\u0086305\\documents\\advanced ai\\course-material\\venv\\lib\\site-packages (from ipython>=7.23.1->ipykernel>=6.5.0->jupyterlab) (3.0.50)\n",
      "Requirement already satisfied: pygments>=2.4.0 in c:\\users\\u0086305\\documents\\advanced ai\\course-material\\venv\\lib\\site-packages (from ipython>=7.23.1->ipykernel>=6.5.0->jupyterlab) (2.19.1)\n",
      "Requirement already satisfied: stack_data in c:\\users\\u0086305\\documents\\advanced ai\\course-material\\venv\\lib\\site-packages (from ipython>=7.23.1->ipykernel>=6.5.0->jupyterlab) (0.6.3)\n",
      "Requirement already satisfied: attrs>=22.2.0 in c:\\users\\u0086305\\documents\\advanced ai\\course-material\\venv\\lib\\site-packages (from jsonschema>=4.18.0->jupyterlab-server<3,>=2.27.1->notebook) (25.1.0)\n",
      "Requirement already satisfied: jsonschema-specifications>=2023.03.6 in c:\\users\\u0086305\\documents\\advanced ai\\course-material\\venv\\lib\\site-packages (from jsonschema>=4.18.0->jupyterlab-server<3,>=2.27.1->notebook) (2024.10.1)\n",
      "Requirement already satisfied: referencing>=0.28.4 in c:\\users\\u0086305\\documents\\advanced ai\\course-material\\venv\\lib\\site-packages (from jsonschema>=4.18.0->jupyterlab-server<3,>=2.27.1->notebook) (0.36.2)\n",
      "Requirement already satisfied: rpds-py>=0.7.1 in c:\\users\\u0086305\\documents\\advanced ai\\course-material\\venv\\lib\\site-packages (from jsonschema>=4.18.0->jupyterlab-server<3,>=2.27.1->notebook) (0.22.3)\n",
      "Requirement already satisfied: python-dateutil>=2.8.2 in c:\\users\\u0086305\\documents\\advanced ai\\course-material\\venv\\lib\\site-packages (from jupyter-client>=6.1.12->ipykernel>=6.5.0->jupyterlab) (2.9.0.post0)\n",
      "Requirement already satisfied: python-json-logger>=2.0.4 in c:\\users\\u0086305\\documents\\advanced ai\\course-material\\venv\\lib\\site-packages (from jupyter-events>=0.11.0->jupyter-server<3,>=2.4.0->notebook) (3.2.1)\n",
      "Requirement already satisfied: pyyaml>=5.3 in c:\\users\\u0086305\\documents\\advanced ai\\course-material\\venv\\lib\\site-packages (from jupyter-events>=0.11.0->jupyter-server<3,>=2.4.0->notebook) (6.0.2)\n",
      "Requirement already satisfied: rfc3339-validator in c:\\users\\u0086305\\documents\\advanced ai\\course-material\\venv\\lib\\site-packages (from jupyter-events>=0.11.0->jupyter-server<3,>=2.4.0->notebook) (0.1.4)\n",
      "Requirement already satisfied: rfc3986-validator>=0.1.1 in c:\\users\\u0086305\\documents\\advanced ai\\course-material\\venv\\lib\\site-packages (from jupyter-events>=0.11.0->jupyter-server<3,>=2.4.0->notebook) (0.1.1)\n",
      "Requirement already satisfied: beautifulsoup4 in c:\\users\\u0086305\\documents\\advanced ai\\course-material\\venv\\lib\\site-packages (from nbconvert>=6.4.4->jupyter-server<3,>=2.4.0->notebook) (4.13.3)\n",
      "Requirement already satisfied: bleach!=5.0.0 in c:\\users\\u0086305\\documents\\advanced ai\\course-material\\venv\\lib\\site-packages (from bleach[css]!=5.0.0->nbconvert>=6.4.4->jupyter-server<3,>=2.4.0->notebook) (6.2.0)\n",
      "Requirement already satisfied: defusedxml in c:\\users\\u0086305\\documents\\advanced ai\\course-material\\venv\\lib\\site-packages (from nbconvert>=6.4.4->jupyter-server<3,>=2.4.0->notebook) (0.7.1)\n",
      "Requirement already satisfied: jupyterlab-pygments in c:\\users\\u0086305\\documents\\advanced ai\\course-material\\venv\\lib\\site-packages (from nbconvert>=6.4.4->jupyter-server<3,>=2.4.0->notebook) (0.3.0)\n",
      "Requirement already satisfied: mistune<4,>=2.0.3 in c:\\users\\u0086305\\documents\\advanced ai\\course-material\\venv\\lib\\site-packages (from nbconvert>=6.4.4->jupyter-server<3,>=2.4.0->notebook) (3.1.1)\n",
      "Requirement already satisfied: nbclient>=0.5.0 in c:\\users\\u0086305\\documents\\advanced ai\\course-material\\venv\\lib\\site-packages (from nbconvert>=6.4.4->jupyter-server<3,>=2.4.0->notebook) (0.10.2)\n",
      "Requirement already satisfied: pandocfilters>=1.4.1 in c:\\users\\u0086305\\documents\\advanced ai\\course-material\\venv\\lib\\site-packages (from nbconvert>=6.4.4->jupyter-server<3,>=2.4.0->notebook) (1.5.1)\n",
      "Requirement already satisfied: fastjsonschema>=2.15 in c:\\users\\u0086305\\documents\\advanced ai\\course-material\\venv\\lib\\site-packages (from nbformat>=5.3.0->jupyter-server<3,>=2.4.0->notebook) (2.21.1)\n",
      "Requirement already satisfied: charset-normalizer<4,>=2 in c:\\users\\u0086305\\documents\\advanced ai\\course-material\\venv\\lib\\site-packages (from requests>=2.31->jupyterlab-server<3,>=2.27.1->notebook) (3.4.1)\n",
      "Requirement already satisfied: urllib3<3,>=1.21.1 in c:\\users\\u0086305\\documents\\advanced ai\\course-material\\venv\\lib\\site-packages (from requests>=2.31->jupyterlab-server<3,>=2.27.1->notebook) (2.3.0)\n",
      "Requirement already satisfied: webencodings in c:\\users\\u0086305\\documents\\advanced ai\\course-material\\venv\\lib\\site-packages (from bleach!=5.0.0->bleach[css]!=5.0.0->nbconvert>=6.4.4->jupyter-server<3,>=2.4.0->notebook) (0.5.1)\n",
      "Requirement already satisfied: tinycss2<1.5,>=1.1.0 in c:\\users\\u0086305\\documents\\advanced ai\\course-material\\venv\\lib\\site-packages (from bleach[css]!=5.0.0->nbconvert>=6.4.4->jupyter-server<3,>=2.4.0->notebook) (1.4.0)\n",
      "Requirement already satisfied: parso<0.9.0,>=0.8.4 in c:\\users\\u0086305\\documents\\advanced ai\\course-material\\venv\\lib\\site-packages (from jedi>=0.16->ipython>=7.23.1->ipykernel>=6.5.0->jupyterlab) (0.8.4)\n",
      "Requirement already satisfied: fqdn in c:\\users\\u0086305\\documents\\advanced ai\\course-material\\venv\\lib\\site-packages (from jsonschema[format-nongpl]>=4.18.0->jupyter-events>=0.11.0->jupyter-server<3,>=2.4.0->notebook) (1.5.1)\n",
      "Requirement already satisfied: isoduration in c:\\users\\u0086305\\documents\\advanced ai\\course-material\\venv\\lib\\site-packages (from jsonschema[format-nongpl]>=4.18.0->jupyter-events>=0.11.0->jupyter-server<3,>=2.4.0->notebook) (20.11.0)\n",
      "Requirement already satisfied: jsonpointer>1.13 in c:\\users\\u0086305\\documents\\advanced ai\\course-material\\venv\\lib\\site-packages (from jsonschema[format-nongpl]>=4.18.0->jupyter-events>=0.11.0->jupyter-server<3,>=2.4.0->notebook) (3.0.0)\n",
      "Requirement already satisfied: uri-template in c:\\users\\u0086305\\documents\\advanced ai\\course-material\\venv\\lib\\site-packages (from jsonschema[format-nongpl]>=4.18.0->jupyter-events>=0.11.0->jupyter-server<3,>=2.4.0->notebook) (1.3.0)\n",
      "Requirement already satisfied: webcolors>=24.6.0 in c:\\users\\u0086305\\documents\\advanced ai\\course-material\\venv\\lib\\site-packages (from jsonschema[format-nongpl]>=4.18.0->jupyter-events>=0.11.0->jupyter-server<3,>=2.4.0->notebook) (24.11.1)\n",
      "Requirement already satisfied: wcwidth in c:\\users\\u0086305\\documents\\advanced ai\\course-material\\venv\\lib\\site-packages (from prompt_toolkit<3.1.0,>=3.0.41->ipython>=7.23.1->ipykernel>=6.5.0->jupyterlab) (0.2.13)\n",
      "Requirement already satisfied: six>=1.5 in c:\\users\\u0086305\\documents\\advanced ai\\course-material\\venv\\lib\\site-packages (from python-dateutil>=2.8.2->jupyter-client>=6.1.12->ipykernel>=6.5.0->jupyterlab) (1.17.0)\n",
      "Requirement already satisfied: cffi>=1.0.1 in c:\\users\\u0086305\\documents\\advanced ai\\course-material\\venv\\lib\\site-packages (from argon2-cffi-bindings->argon2-cffi>=21.1->jupyter-server<3,>=2.4.0->notebook) (1.17.1)\n",
      "Requirement already satisfied: soupsieve>1.2 in c:\\users\\u0086305\\documents\\advanced ai\\course-material\\venv\\lib\\site-packages (from beautifulsoup4->nbconvert>=6.4.4->jupyter-server<3,>=2.4.0->notebook) (2.6)\n",
      "Requirement already satisfied: executing>=1.2.0 in c:\\users\\u0086305\\documents\\advanced ai\\course-material\\venv\\lib\\site-packages (from stack_data->ipython>=7.23.1->ipykernel>=6.5.0->jupyterlab) (2.2.0)\n",
      "Requirement already satisfied: asttokens>=2.1.0 in c:\\users\\u0086305\\documents\\advanced ai\\course-material\\venv\\lib\\site-packages (from stack_data->ipython>=7.23.1->ipykernel>=6.5.0->jupyterlab) (3.0.0)\n",
      "Requirement already satisfied: pure-eval in c:\\users\\u0086305\\documents\\advanced ai\\course-material\\venv\\lib\\site-packages (from stack_data->ipython>=7.23.1->ipykernel>=6.5.0->jupyterlab) (0.2.3)\n",
      "Requirement already satisfied: pycparser in c:\\users\\u0086305\\documents\\advanced ai\\course-material\\venv\\lib\\site-packages (from cffi>=1.0.1->argon2-cffi-bindings->argon2-cffi>=21.1->jupyter-server<3,>=2.4.0->notebook) (2.22)\n",
      "Requirement already satisfied: arrow>=0.15.0 in c:\\users\\u0086305\\documents\\advanced ai\\course-material\\venv\\lib\\site-packages (from isoduration->jsonschema[format-nongpl]>=4.18.0->jupyter-events>=0.11.0->jupyter-server<3,>=2.4.0->notebook) (1.3.0)\n",
      "Requirement already satisfied: types-python-dateutil>=2.8.10 in c:\\users\\u0086305\\documents\\advanced ai\\course-material\\venv\\lib\\site-packages (from arrow>=0.15.0->isoduration->jsonschema[format-nongpl]>=4.18.0->jupyter-events>=0.11.0->jupyter-server<3,>=2.4.0->notebook) (2.9.0.20241206)\n",
      "Downloading notebook-7.3.3-py3-none-any.whl (13.1 MB)\n",
      "   ---------------------------------------- 0.0/13.1 MB ? eta -:--:--\n",
      "   ------------- -------------------------- 4.5/13.1 MB 26.9 MB/s eta 0:00:01\n",
      "   --------------------------------- ------ 11.0/13.1 MB 31.2 MB/s eta 0:00:01\n",
      "   ---------------------------------------- 13.1/13.1 MB 29.5 MB/s eta 0:00:00\n",
      "Downloading jupyterlab-4.3.6-py3-none-any.whl (11.7 MB)\n",
      "   ---------------------------------------- 0.0/11.7 MB ? eta -:--:--\n",
      "   ----------------------------- ---------- 8.7/11.7 MB 41.3 MB/s eta 0:00:01\n",
      "   ---------------------------------------- 11.7/11.7 MB 36.6 MB/s eta 0:00:00\n",
      "Downloading pywin32-310-cp311-cp311-win_amd64.whl (9.5 MB)\n",
      "   ---------------------------------------- 0.0/9.5 MB ? eta -:--:--\n",
      "   ----------------------------------- ---- 8.4/9.5 MB 39.8 MB/s eta 0:00:01\n",
      "   ---------------------------------------- 9.5/9.5 MB 34.8 MB/s eta 0:00:00\n",
      "Using cached pywinpty-2.0.15-cp311-cp311-win_amd64.whl (1.4 MB)\n",
      "Installing collected packages: pywin32, pywinpty, jupyterlab, notebook\n",
      "  Attempting uninstall: jupyterlab\n",
      "    Found existing installation: jupyterlab 4.3.5\n",
      "    Uninstalling jupyterlab-4.3.5:\n",
      "      Successfully uninstalled jupyterlab-4.3.5\n",
      "  Attempting uninstall: notebook\n",
      "    Found existing installation: notebook 7.3.2\n",
      "    Uninstalling notebook-7.3.2:\n",
      "      Successfully uninstalled notebook-7.3.2\n",
      "Successfully installed jupyterlab-4.3.6 notebook-7.3.3 pywin32-310 pywinpty-2.0.15\n"
     ]
    }
   ],
   "source": [
    "# You may need to update these for some of the models in this notebook.\n",
    "\n",
    "#%pip install --upgrade ipywidgets\n",
    "#%pip install --upgrade notebook jupyterlab\n"
   ]
  },
  {
   "cell_type": "code",
   "execution_count": 1,
   "metadata": {},
   "outputs": [
    {
     "name": "stdout",
     "output_type": "stream",
     "text": [
      "BERT model parameters: 109,482,240\n",
      "GPT-2 model parameters: 124,439,808\n",
      "T5-small model parameters: 60,506,624\n"
     ]
    }
   ],
   "source": [
    "from transformers import AutoTokenizer, AutoModel, AutoModelForCausalLM, AutoModelForSeq2SeqLM\n",
    "\n",
    "# Example: Loading different types of models\n",
    "\n",
    "# 1. Encoder model (BERT)\n",
    "tokenizer_bert = AutoTokenizer.from_pretrained(\"bert-base-uncased\")\n",
    "model_bert = AutoModel.from_pretrained(\"bert-base-uncased\")\n",
    "print(f\"BERT model parameters: {model_bert.num_parameters():,}\")\n",
    "\n",
    "# 2. Decoder model (GPT-2)\n",
    "tokenizer_gpt2 = AutoTokenizer.from_pretrained(\"gpt2\")\n",
    "model_gpt2 = AutoModelForCausalLM.from_pretrained(\"gpt2\")\n",
    "print(f\"GPT-2 model parameters: {model_gpt2.num_parameters():,}\")\n",
    "\n",
    "# 3. Encoder-decoder model (T5-small)\n",
    "tokenizer_t5 = AutoTokenizer.from_pretrained(\"t5-small\")\n",
    "model_t5 = AutoModelForSeq2SeqLM.from_pretrained(\"t5-small\")\n",
    "print(f\"T5-small model parameters: {model_t5.num_parameters():,}\")"
   ]
  },
  {
   "cell_type": "markdown",
   "metadata": {},
   "source": [
    "#### Example: Translations using T5\n",
    "\n",
    "Here's a small language translation example:"
   ]
  },
  {
   "cell_type": "code",
   "execution_count": 12,
   "metadata": {},
   "outputs": [
    {
     "name": "stdout",
     "output_type": "stream",
     "text": [
      "Input: Translate English to French: The quick brown fox jumps over the lazy dog.\n",
      "Output: Le renard brun rapide saute sur le chien fâcheux.\n"
     ]
    }
   ],
   "source": [
    "# Import necessary libraries\n",
    "import torch\n",
    "from transformers import AutoTokenizer, AutoModelForSeq2SeqLM\n",
    "\n",
    "# Load a pre-trained encoder-decoder model (T5-small is a good starting point)\n",
    "model_name = \"t5-small\"\n",
    "tokenizer = AutoTokenizer.from_pretrained(model_name)\n",
    "model = AutoModelForSeq2SeqLM.from_pretrained(model_name)\n",
    "\n",
    "# Define a simple translation task\n",
    "english_text = \"Translate English to French: The quick brown fox jumps over the lazy dog.\"\n",
    "\n",
    "# Tokenize input\n",
    "inputs = tokenizer(english_text, return_tensors=\"pt\", max_length=128, truncation=True)\n",
    "\n",
    "# Generate translation\n",
    "outputs = model.generate(inputs.input_ids, max_length=128)\n",
    "\n",
    "# Decode and print the result\n",
    "translated_text = tokenizer.decode(outputs[0], skip_special_tokens=True)\n",
    "print(f\"Input: {english_text}\")\n",
    "print(f\"Output: {translated_text}\")"
   ]
  },
  {
   "cell_type": "markdown",
   "metadata": {},
   "source": [
    "##### Try It Out\n",
    "\n",
    "What happens if you change the target language to Dutch?\n",
    "\n",
    "##### Visualization\n",
    "\n",
    "Below is the same example, but with some additional visualization added to help you see what's happening. (I also moved it to my GPU so you can see again how to use devices.)"
   ]
  },
  {
   "cell_type": "code",
   "execution_count": null,
   "metadata": {},
   "outputs": [
    {
     "name": "stdout",
     "output_type": "stream",
     "text": [
      "Using device: cuda\n",
      "Input: Translate English to French: The meeting ran late. I missed my bus.\n",
      "Output: La réunion a eu lieu en retard, et j'ai manqué mon autobus.\n",
      "Original text: Translate English to French: The meeting ran late. I missed my bus.\n",
      "Tokenized into 16 tokens: ['▁Translat', 'e', '▁English', '▁to', '▁French', ':', '▁The', '▁meeting', '▁ran', '▁late', '.', '▁I', '▁missed', '▁my', '▁bus', '.']\n",
      "Token IDs: [30355, 15, 1566, 12, 2379, 10, 37, 1338, 4037, 1480, 5, 27, 4785, 82, 2601, 5, 1]\n"
     ]
    },
    {
     "data": {
      "image/png": "[encoded data removed]",
      "text/plain": [
       "<Figure size 1200x300 with 1 Axes>"
      ]
     },
     "metadata": {},
     "output_type": "display_data"
    },
    {
     "data": {
      "image/png": "[encoded data removed]",
      "text/plain": [
       "<Figure size 1000x800 with 2 Axes>"
      ]
     },
     "metadata": {},
     "output_type": "display_data"
    },
    {
     "data": {
      "image/png": "[encoded data removed]",
      "text/plain": [
       "<Figure size 1500x600 with 16 Axes>"
      ]
     },
     "metadata": {},
     "output_type": "display_data"
    },
    {
     "data": {
      "image/png": "[encoded data removed]",
      "text/plain": [
       "<Figure size 1000x600 with 1 Axes>"
      ]
     },
     "metadata": {},
     "output_type": "display_data"
    },
    {
     "name": "stderr",
     "output_type": "stream",
     "text": [
      "Passing a tuple of `past_key_values` is deprecated and will be removed in Transformers v4.48.0. You should pass an instance of `EncoderDecoderCache` instead, e.g. `past_key_values=EncoderDecoderCache.from_legacy_cache(past_key_values)`.\n"
     ]
    },
    {
     "data": {
      "image/png": "[encoded data removed]",
      "text/plain": [
       "<Figure size 1200x600 with 2 Axes>"
      ]
     },
     "metadata": {},
     "output_type": "display_data"
    },
    {
     "name": "stdout",
     "output_type": "stream",
     "text": [
      "GPU memory cleared\n"
     ]
    }
   ],
   "source": [
    "# Import necessary libraries\n",
    "import torch\n",
    "from transformers import AutoTokenizer, AutoModelForSeq2SeqLM\n",
    "import matplotlib.pyplot as plt\n",
    "import numpy as np\n",
    "import seaborn as sns\n",
    "\n",
    "# Check if GPU is available and set the device accordingly\n",
    "device = torch.device(\"cuda\" if torch.cuda.is_available() else \"cpu\")\n",
    "print(f\"Using device: {device}\")\n",
    "\n",
    "# Load a pre-trained encoder-decoder model (T5-small is a good starting point)\n",
    "model_name = \"t5-small\"\n",
    "tokenizer = AutoTokenizer.from_pretrained(model_name)\n",
    "model = AutoModelForSeq2SeqLM.from_pretrained(model_name).to(device)  # Move model to GPU\n",
    "\n",
    "# Define a simple translation task\n",
    "english_text = \"Translate English to French: The meeting ran late. I missed my bus.\"\n",
    "\n",
    "# Tokenize input\n",
    "inputs = tokenizer(english_text, return_tensors=\"pt\", max_length=128, truncation=True)\n",
    "# Move input tensors to GPU\n",
    "input_ids = inputs.input_ids.to(device)\n",
    "attention_mask = inputs.attention_mask.to(device)\n",
    "\n",
    "# For getting attention weights, we need to run the model with output_attentions=True\n",
    "# Run the encoder to get encoder attention weights\n",
    "encoder_outputs = model.encoder(\n",
    "    input_ids=input_ids,\n",
    "    attention_mask=attention_mask,\n",
    "    output_attentions=True,\n",
    "    return_dict=True\n",
    ")\n",
    "\n",
    "# Now we can access the attention weights from the outputs\n",
    "encoder_attentions = encoder_outputs.attentions\n",
    "\n",
    "# Generate translation with output attention\n",
    "outputs = model.generate(\n",
    "    input_ids, \n",
    "    attention_mask=attention_mask,\n",
    "    max_length=128,\n",
    "    output_attentions=True,\n",
    "    return_dict_in_generate=True\n",
    ")\n",
    "\n",
    "# Decode and print the result\n",
    "translated_text = tokenizer.decode(outputs.sequences[0], skip_special_tokens=True)\n",
    "print(f\"Input: {english_text}\")\n",
    "print(f\"Output: {translated_text}\")\n",
    "\n",
    "# Visualize tokenization\n",
    "def visualize_tokenization(text):\n",
    "    tokens = tokenizer.tokenize(text)\n",
    "    token_ids = tokenizer.encode(text)\n",
    "    \n",
    "    print(f\"Original text: {text}\")\n",
    "    print(f\"Tokenized into {len(tokens)} tokens: {tokens}\")\n",
    "    print(f\"Token IDs: {token_ids}\")\n",
    "    \n",
    "    # Create a visual representation\n",
    "    plt.figure(figsize=(12, 3))\n",
    "    plt.bar(range(len(tokens)), [1]-len(tokens), color='skyblue')\n",
    "    plt.xticks(range(len(tokens)), tokens, rotation=45)\n",
    "    plt.title('Tokenization Visualization')\n",
    "    plt.tight_layout()\n",
    "    plt.show()\n",
    "\n",
    "visualize_tokenization(english_text)\n",
    "\n",
    "# Visualize attention patterns\n",
    "def visualize_attention(attention_data, layer_idx=0, head_idx=0):\n",
    "    # Get attention from a specific layer and head\n",
    "    # Move the data to CPU for visualization\n",
    "    attn = attention_data[layer_idx][0, head_idx].detach().cpu().numpy()\n",
    "    \n",
    "    # Get token labels for axes\n",
    "    input_tokens = tokenizer.convert_ids_to_tokens(input_ids[0].cpu())\n",
    "    \n",
    "    plt.figure(figsize=(10, 8))\n",
    "    sns.heatmap(attn, xticklabels=input_tokens, yticklabels=input_tokens, cmap=\"YlGnBu\")\n",
    "    plt.title(f\"Attention Pattern - Layer {layer_idx}, Head {head_idx}\")\n",
    "    plt.tight_layout()\n",
    "    plt.show()\n",
    "\n",
    "# Visualize one of the encoder's self-attention patterns\n",
    "visualize_attention(encoder_attentions, layer_idx=0, head_idx=0)\n",
    "\n",
    "# Visualize attention across different heads\n",
    "def visualize_multi_head_attention(attention_data, layer_idx=0):\n",
    "    num_heads = attention_data[layer_idx].shape[1]\n",
    "    fig, axes = plt.subplots(2, num_heads//2, figsize=(15, 6))\n",
    "    axes = axes.flatten()\n",
    "    \n",
    "    for head_idx in range(num_heads):\n",
    "        attn = attention_data[layer_idx][0, head_idx].detach().cpu().numpy()\n",
    "        input_tokens = tokenizer.convert_ids_to_tokens(input_ids[0].cpu())\n",
    "        \n",
    "        sns.heatmap(attn, xticklabels=input_tokens, yticklabels=input_tokens, \n",
    "                    cmap=\"YlGnBu\", ax=axes[head_idx])\n",
    "        axes[head_idx].set_title(f\"Head {head_idx}\")\n",
    "        axes[head_idx].set_xticklabels(input_tokens, rotation=90)\n",
    "        axes[head_idx].set_yticklabels(input_tokens, rotation=0)\n",
    "    \n",
    "    plt.suptitle(f\"Multi-Head Attention Patterns - Layer {layer_idx}\")\n",
    "    plt.tight_layout()\n",
    "    plt.subplots_adjust(top=0.9)\n",
    "    plt.show()\n",
    "\n",
    "# Visualize all attention heads in a layer\n",
    "visualize_multi_head_attention(encoder_attentions, layer_idx=0)\n",
    "\n",
    "# Bonus: Information flow visualization\n",
    "def visualize_information_flow():\n",
    "    # Create a diagram showing encoder-decoder information flow\n",
    "    plt.figure(figsize=(10, 6))\n",
    "    \n",
    "    # Define components\n",
    "    components = ['Input', 'Encoder', 'Decoder', 'Output']\n",
    "    y_pos = np.arange(len(components))\n",
    "    \n",
    "    # Draw the components\n",
    "    plt.barh(y_pos, [0.5, 0.5, 0.5, 0.5], left=[0, 0.5, 1.5, 2], height=0.5, \n",
    "             color=['lightblue', 'lightgreen', 'salmon', 'gold'])\n",
    "    \n",
    "    # Add labels\n",
    "    plt.yticks(y_pos, components)\n",
    "    plt.xticks([])\n",
    "    \n",
    "    # Add arrows for information flow\n",
    "    plt.arrow(0.25, 0, 0.2, 0, head_width=0.1, head_length=0.05, fc='black', ec='black')\n",
    "    plt.arrow(0.75, 0, 0.2, 0, head_width=0.1, head_length=0.05, fc='black', ec='black')\n",
    "    plt.arrow(1.75, 0, 0.2, 0, head_width=0.1, head_length=0.05, fc='black', ec='black')\n",
    "    \n",
    "    # Add cross-attention arrow\n",
    "    plt.arrow(0.75, 1.5, 0.7, 0, head_width=0.1, head_length=0.05, fc='red', ec='red', \n",
    "              linestyle='dashed')\n",
    "    \n",
    "    plt.text(1.1, 1.6, \"Cross-Attention\", color='red')\n",
    "    plt.title(\"Information Flow in Encoder-Decoder Architecture\")\n",
    "    plt.tight_layout()\n",
    "    plt.show()\n",
    "\n",
    "visualize_information_flow()\n",
    "\n",
    "# Bonus: Visualize cross-attention between encoder and decoder\n",
    "def visualize_cross_attention():\n",
    "    # For cross-attention visualization, we need to run the model with decoder input\n",
    "    # This is a simplified approach - actual implementation may vary\n",
    "    \n",
    "    # Get decoder input ids (we'll use a simple start token)\n",
    "    decoder_input_ids = torch.tensor([[0]]).to(device)  # Assuming 0 is the start token\n",
    "    \n",
    "    # Run the model with encoder outputs and decoder input\n",
    "    decoder_outputs = model.decoder(\n",
    "        input_ids=decoder_input_ids,\n",
    "        encoder_hidden_states=encoder_outputs.last_hidden_state,\n",
    "        output_attentions=True,\n",
    "        return_dict=True\n",
    "    )\n",
    "    \n",
    "    # Get cross-attention weights\n",
    "    cross_attentions = decoder_outputs.cross_attentions\n",
    "    \n",
    "    if cross_attentions:\n",
    "        # Visualize cross-attention from first layer, first head\n",
    "        layer_idx, head_idx = 0, 0\n",
    "        cross_attn = cross_attentions[layer_idx][0, head_idx].detach().cpu().numpy()\n",
    "        \n",
    "        # Get token labels\n",
    "        input_tokens = tokenizer.convert_ids_to_tokens(input_ids[0].cpu())\n",
    "        decoder_tokens = [\"<start>\"]  # Simplified for demonstration\n",
    "        \n",
    "        plt.figure(figsize=(12, 6))\n",
    "        sns.heatmap(cross_attn, xticklabels=input_tokens, yticklabels=decoder_tokens, cmap=\"YlGnBu\")\n",
    "        plt.title(f\"Cross-Attention - Layer {layer_idx}, Head {head_idx}\")\n",
    "        plt.tight_layout()\n",
    "        plt.show()\n",
    "    else:\n",
    "        print(\"Cross-attention weights not available in this run.\")\n",
    "\n",
    "# Try to visualize cross-attention\n",
    "try:\n",
    "    visualize_cross_attention()\n",
    "except Exception as e:\n",
    "    print(f\"Could not visualize cross-attention: {e}\")\n",
    "    print(\"This might be because we need a full generation run to get cross-attention weights.\")\n",
    "\n",
    "# Memory management - important for GPU usage\n",
    "def clear_gpu_memory():\n",
    "    torch.cuda.empty_cache()\n",
    "    print(\"GPU memory cleared\")\n",
    "\n",
    "# Call this function when you're done with the model\n",
    "clear_gpu_memory()"
   ]
  },
  {
   "cell_type": "markdown",
   "metadata": {},
   "source": [
    "#### Interpretation\n",
    "\n",
    "The visualizations in our notebook provide some insights into how transformer models like T5 process and attend to different parts of the input when generating outputs. Here's how to interpret each type of visualization:\n",
    "\n",
    "1. Tokenization Visualization\n",
    "This bar chart shows how the input text is broken down into tokens:\n",
    "- Each bar represents a token in the vocabulary\n",
    "- The visualization helps you understand how the model \"sees\" your input\n",
    "- Look for interesting splits, especially with rare words or subwords\n",
    "- Note that some tokens might start with \"▁\" (underscore), which represents spaces in the T5 tokenizer\n",
    "\n",
    "2. Attention Heatmaps\n",
    "The core visualization is the attention heatmap:\n",
    "- X and Y axes represent tokens from the input\n",
    "- Brighter/darker blue indicates stronger attention weights\n",
    "- Reading horizontally shows which input tokens a particular token is paying attention to\n",
    "\n",
    "Key patterns to look for:\n",
    "- Diagonal patterns: When tokens attend strongly to themselves (self-focus)\n",
    "- Vertical stripes: When certain tokens (like important keywords) receive attention from many other tokens\n",
    "- Horizontal stripes: When a token is distributing its attention across many input tokens\n",
    "- Blocks: When groups of related tokens attend to each other\n",
    "\n",
    "3. Multi-Head Attention Visualization\n",
    "This shows multiple attention heads side by side:\n",
    "- Each head specializes in different linguistic patterns\n",
    "- Some heads might focus on syntactic relationships\n",
    "- Others might capture semantic relationships\n",
    "- Look for heads that attend to different parts of the sentence\n",
    "\n",
    "Common patterns across heads:\n",
    "- Some heads might focus on adjacent words (local attention)\n",
    "- Others might connect distant but related words (long-range dependencies)\n",
    "- Some may attend to punctuation or special tokens\n",
    "- Certain heads might specialize in specific linguistic features\n",
    "\n",
    "4. Information Flow Diagram\n",
    "This conceptual diagram shows how information travels through the model and helps visualize the high-level architecture of encoder-decoder models:\n",
    "- The left-to-right flow represents the basic sequence of processing\n",
    "- The dashed red arrow shows cross-attention, where the decoder attends to encoder outputs\n",
    "\n",
    "5. Cross-Attention Visualization (if available)\n",
    "This shows how decoder tokens attend to encoder outputs:\n",
    "- X-axis shows encoder tokens (input)\n",
    "- Y-axis shows decoder tokens (output/generation)\n",
    "- Bright spots indicate where the decoder is focusing when generating each token\n",
    "\n",
    "Tips for Deeper Analysis\n",
    "- Compare different inputs: See how attention patterns change with different sentences\n",
    "- Look at different layers: Earlier layers often capture different patterns than later layers\n",
    "- Trace specific tokens: Follow how attention to important words flows through the model\n",
    "- Compare with translation output: Connect attention patterns to the quality of translation\n",
    "- Look for linguistic phenomena: Observe how the model handles negation, questions, or complex syntax\n",
    "\n",
    "By studying these visualizations, you can gain insights into how transformer models \"reason\" about language and how different components contribute to the final output."
   ]
  },
  {
   "cell_type": "markdown",
   "metadata": {},
   "source": [
    "#### Training Methodologies\n",
    "\n",
    "##### Pre-training Objectives\n",
    "\n",
    "1. Masked Language Modeling (MLM)\n",
    "   - Introduced by BERT (Bidirectional Encoder Representations from Transformers)\n",
    "   - Randomly masks tokens in the input text (typically 15% of tokens)\n",
    "   - Model is trained to predict the original tokens at masked positions\n",
    "   - Enables bidirectional context understanding since model sees both left and right contexts\n",
    "   - Variations include:\n",
    "     - Dynamic masking (RoBERTa): Creates masks on-the-fly instead of static masks\n",
    "     - Whole word masking: Masks all tokens of a word together\n",
    "     - Entity masking: Preferentially masks named entities and domain-specific terms\n",
    "\n",
    "2. Causal Language Modeling (CLM)\n",
    "   - Used by GPT (Generative Pre-trained Transformer) family of models\n",
    "   - Predicts the next token based on all previous tokens in the sequence\n",
    "   - Trains the model to understand sequential dependencies and patterns\n",
    "   - Uses autoregressive attention where each token only attends to previous tokens\n",
    "   - Naturally suited for text generation tasks\n",
    "   - Enables zero-shot and few-shot learning through prompt engineering\n",
    "    - zero-shot: can perform a task without any training examples, e.g. prompt: you describe what you want, ChatGPT does what you ask\n",
    "    - few-shot: uses a few examples to train a task, e.g. here are some previous emails I've written, write an email in the same style\n",
    "\n",
    "3. Span Corruption\n",
    "   - Pioneered by T5 (Text-to-Text Transfer Transformer)\n",
    "   - Corrupts contiguous spans of text rather than individual tokens\n",
    "   - Replaced spans with special sentinel tokens\n",
    "   - Model learns to reconstruct the original spans\n",
    "   - Advantages:\n",
    "     - Forces model to understand broader context\n",
    "     - Creates a more challenging task than single-token masking\n",
    "     - Helps with tasks requiring generation of longer sequences\n",
    "\n",
    "4. Prefix Language Modeling (PLM)\n",
    "   - Hybrid approach combining aspects of MLM and CLM\n",
    "   - First portion of text is treated as bidirectional context\n",
    "   - Remaining portion is predicted autoregressively\n",
    "   - Used in models like UniLM and MASS\n",
    "\n",
    "5. Contrastive Learning\n",
    "   - SimCSE, CLIP, and BERT-CT incorporate contrastive objectives\n",
    "   - Pulls semantically similar representations closer together\n",
    "   - Pushes dissimilar representations further apart\n",
    "   - Especially useful for sentence embeddings and multimodal learning\n",
    "\n",
    "6. Denoising Autoencoding\n",
    "   - BART and many other models use various noise functions\n",
    "   - Includes token masking, deletion, permutation, and rotation\n",
    "   - Model learns to reconstruct the original uncorrupted text\n",
    "   - Effective for both understanding and generation tasks\n",
    "\n",
    "##### Training Approaches\n",
    "\n",
    "1. Curriculum Learning\n",
    "   - Gradually increases task difficulty during training\n",
    "   - Begins with shorter or simpler examples\n",
    "   - Progressively introduces more complex patterns\n",
    "   - Shown to improve convergence and final performance\n",
    "\n",
    "2. Multitask Learning\n",
    "   - Simultaneously trains on multiple objectives\n",
    "   - Examples include:\n",
    "     - T5: Combines span corruption with supervised tasks\n",
    "     - BERT: Combines MLM with next sentence prediction\n",
    "     - MT-DNN: Combines BERT pre-training with multiple downstream tasks\n",
    "\n",
    "3. Continual Pre-training\n",
    "   - Starts from an existing pre-trained model\n",
    "   - Continues training on domain-specific data\n",
    "   - Adapts general knowledge to specific domains\n",
    "   - Examples include BioBERT (biomedical), LegalBERT, and FinBERT"
   ]
  },
  {
   "cell_type": "code",
   "execution_count": null,
   "metadata": {},
   "outputs": [
    {
     "name": "stderr",
     "output_type": "stream",
     "text": [
      "Some weights of the model checkpoint at bert-base-uncased were not used when initializing BertForMaskedLM: ['bert.pooler.dense.bias', 'bert.pooler.dense.weight', 'cls.seq_relationship.bias', 'cls.seq_relationship.weight']\n",
      "- This IS expected if you are initializing BertForMaskedLM from the checkpoint of a model trained on another task or with another architecture (e.g. initializing a BertForSequenceClassification model from a BertForPreTraining model).\n",
      "- This IS NOT expected if you are initializing BertForMaskedLM from the checkpoint of a model that you expect to be exactly identical (initializing a BertForSequenceClassification model from a BertForSequenceClassification model).\n"
     ]
    },
    {
     "name": "stdout",
     "output_type": "stream",
     "text": [
      "Original text: The transformer architecture has revolutionized [MASK] processing.\n",
      "Top 5 predictions for [MASK]: ['signal', 'image', 'data', 'information', 'digital']\n"
     ]
    }
   ],
   "source": [
    "# Demonstration of masked language modeling with BERT\n",
    "from transformers import BertTokenizer, BertForMaskedLM\n",
    "import torch\n",
    "\n",
    "# Load pre-trained model and tokenizer\n",
    "tokenizer = BertTokenizer.from_pretrained('bert-base-uncased')\n",
    "model = BertForMaskedLM.from_pretrained('bert-base-uncased')\n",
    "\n",
    "# Create masked sentence\n",
    "text = \"The transformer architecture has revolutionized [MASK] processing.\"\n",
    "inputs = tokenizer(text, return_tensors=\"pt\")\n",
    "\n",
    "# Get the position of [MASK]\n",
    "mask_token_index = torch.where(inputs[\"input_ids\"][0] == tokenizer.mask_token_id)[0]\n",
    "\n",
    "# Forward pass\n",
    "with torch.no_grad():\n",
    "    outputs = model(inputs)\n",
    "\n",
    "# Get predictions for mask token\n",
    "predicted_token_ids = torch.topk(outputs.logits[0, mask_token_index], k=5).indices[0].tolist()\n",
    "predicted_tokens = [tokenizer.decode([token_id]) for token_id in predicted_token_ids]\n",
    "\n",
    "print(f\"Original text: {text}\")\n",
    "print(f\"Top 5 predictions for [MASK]: {predicted_tokens}\")"
   ]
  },
  {
   "cell_type": "markdown",
   "metadata": {},
   "source": [
    "# Capabilities and Applications of LLMs\n",
    "\n",
    "## Core Language Capabilities\n",
    "\n",
    "#### 1. Natural Language Understanding\n",
    "- Semantic Comprehension: Understanding meaning beyond surface-level text\n",
    "- Contextual Processing: Interpreting words based on surrounding context\n",
    "- Ambiguity Resolution: Disambiguating words with multiple meanings\n",
    "- Inference Generation: Drawing conclusions not explicitly stated\n",
    "- Pragmatic Understanding: Grasping implied meaning, sarcasm, and figurative language\n",
    "- Cross-lingual Comprehension: Understanding concepts across multiple languages\n",
    "\n",
    "#### 2. Text Generation\n",
    "- Coherent Long-form Content: Creating extended text that maintains topical focus\n",
    "- Style Adaptation: Generating content in specific voices, tones, or writing styles\n",
    "- Format Adherence: Creating text in predetermined structures (essays, emails, code)\n",
    "- Creative Writing: Producing fiction, poetry, and other creative content\n",
    "- Factual Exposition: Generating explanatory and educational material\n",
    "- Constrained Generation: Producing text under specific parameters or restrictions\n",
    "\n",
    "#### 3. Language Transformation\n",
    "- Translation: Converting text between languages while preserving meaning\n",
    "- Summarization: Condensing long texts while retaining key information\n",
    "- Paraphrasing: Rewording content while maintaining original meaning\n",
    "- Simplification: Making complex text more accessible\n",
    "- Formality Shifting: Adjusting the formality level of communication\n",
    "- Technical Adaptation: Converting specialist language for different audiences\n",
    "\n",
    "#### 4. Reasoning and Analysis\n",
    "- Logical Reasoning: Following chains of deduction and inference\n",
    "- Critical Analysis: Evaluating arguments and identifying logical flaws\n",
    "- Comparative Evaluation: Contrasting different perspectives or approaches\n",
    "- Problem Decomposition: Breaking complex problems into manageable parts\n",
    "- Analogical Reasoning: Drawing parallels between different domains\n",
    "- Causal Analysis: Identifying relationships between causes and effects\n",
    "\n",
    "#### 5. Domain-Specific Knowledge\n",
    "- Scientific Knowledge: Understanding concepts across scientific fields\n",
    "- Cultural Awareness: Recognizing cultural references and contexts\n",
    "- Historical Knowledge: Understanding historical events and their significance\n",
    "- Technical Expertise: Comprehending specialized terminology and concepts\n",
    "- Current Affairs: Knowledge of world events (up to knowledge cutoff)\n",
    "- Conceptual Frameworks: Understanding theoretical models across disciplines\n",
    "\n",
    "#### 6. Multimodal Integration\n",
    "- Text-to-Code Translation: Converting natural language to programming code\n",
    "- Data Interpretation: Analyzing and explaining patterns in textual data\n",
    "- Mathematical Processing: Understanding and solving mathematical problems\n",
    "- Logical Formalization: Converting natural language into logical structures\n",
    "- Knowledge Representation: Organizing information into structured formats\n",
    "\n",
    "#### 7. Interactive Capabilities\n",
    "- Dialogue Management: Maintaining coherent multi-turn conversations\n",
    "- Question Answering: Providing accurate responses to diverse queries\n",
    "- Clarification Seeking: Requesting additional information when needed\n",
    "- Instruction Following: Executing complex multi-step instructions\n",
    "- Feedback Incorporation: Adapting responses based on user feedback\n",
    "- Conversational Memory: Maintaining context throughout exchanges"
   ]
  },
  {
   "cell_type": "code",
   "execution_count": 2,
   "metadata": {},
   "outputs": [
    {
     "data": {
      "application/vnd.jupyter.widget-view+json": {
       "model_id": "09bcbda7cf84491e92994831fdf45809",
       "version_major": 2,
       "version_minor": 0
      },
      "text/plain": [
       "config.json:   0%|          | 0.00/1.80k [00:00<?, ?B/s]"
      ]
     },
     "metadata": {},
     "output_type": "display_data"
    },
    {
     "name": "stderr",
     "output_type": "stream",
     "text": [
      "c:\\Users\\u0086305\\Documents\\Advanced AI\\course-material\\venv\\Lib\\site-packages\\huggingface_hub\\file_download.py:142: UserWarning: `huggingface_hub` cache-system uses symlinks by default to efficiently store duplicated files but your machine does not support them in C:\\Users\\u0086305\\.cache\\huggingface\\hub\\models--sshleifer--distilbart-cnn-12-6. Caching files will still work but in a degraded version that might require more space on your disk. This warning can be disabled by setting the `HF_HUB_DISABLE_SYMLINKS_WARNING` environment variable. For more details, see https://huggingface.co/docs/huggingface_hub/how-to-cache#limitations.\n",
      "To support symlinks on Windows, you either need to activate Developer Mode or to run Python as an administrator. In order to activate developer mode, see this article: https://docs.microsoft.com/en-us/windows/apps/get-started/enable-your-device-for-development\n",
      "  warnings.warn(message)\n"
     ]
    },
    {
     "data": {
      "application/vnd.jupyter.widget-view+json": {
       "model_id": "f93ad9111e6a465392180746cdd6d1c5",
       "version_major": 2,
       "version_minor": 0
      },
      "text/plain": [
       "pytorch_model.bin:   0%|          | 0.00/1.22G [00:00<?, ?B/s]"
      ]
     },
     "metadata": {},
     "output_type": "display_data"
    },
    {
     "name": "stderr",
     "output_type": "stream",
     "text": [
      "c:\\Users\\u0086305\\Documents\\Advanced AI\\course-material\\venv\\Lib\\site-packages\\torch\\_utils.py:831: UserWarning: TypedStorage is deprecated. It will be removed in the future and UntypedStorage will be the only storage class. This should only matter to you if you are using storages directly.  To access UntypedStorage directly, use tensor.untyped_storage() instead of tensor.storage()\n",
      "  return self.fget.__get__(instance, owner)()\n"
     ]
    },
    {
     "data": {
      "application/vnd.jupyter.widget-view+json": {
       "model_id": "d21ac423a7f643ca94e29ee067651bbb",
       "version_major": 2,
       "version_minor": 0
      },
      "text/plain": [
       "tokenizer_config.json:   0%|          | 0.00/26.0 [00:00<?, ?B/s]"
      ]
     },
     "metadata": {},
     "output_type": "display_data"
    },
    {
     "data": {
      "application/vnd.jupyter.widget-view+json": {
       "model_id": "caca6a8ca0eb45f7a854dbc960868e67",
       "version_major": 2,
       "version_minor": 0
      },
      "text/plain": [
       "vocab.json:   0%|          | 0.00/899k [00:00<?, ?B/s]"
      ]
     },
     "metadata": {},
     "output_type": "display_data"
    },
    {
     "data": {
      "application/vnd.jupyter.widget-view+json": {
       "model_id": "b50805876bb74bb7b6236cb627c82393",
       "version_major": 2,
       "version_minor": 0
      },
      "text/plain": [
       "model.safetensors:   0%|          | 0.00/1.22G [00:00<?, ?B/s]"
      ]
     },
     "metadata": {},
     "output_type": "display_data"
    },
    {
     "data": {
      "application/vnd.jupyter.widget-view+json": {
       "model_id": "8f20aedbcc244b6088ba58493245c944",
       "version_major": 2,
       "version_minor": 0
      },
      "text/plain": [
       "merges.txt:   0%|          | 0.00/456k [00:00<?, ?B/s]"
      ]
     },
     "metadata": {},
     "output_type": "display_data"
    },
    {
     "name": "stderr",
     "output_type": "stream",
     "text": [
      "Device set to use cuda:0\n",
      "No model was supplied, defaulted to distilbert/distilbert-base-cased-distilled-squad and revision 564e9b5 (https://huggingface.co/distilbert/distilbert-base-cased-distilled-squad).\n",
      "Using a pipeline without specifying a model name and revision in production is not recommended.\n"
     ]
    },
    {
     "name": "stdout",
     "output_type": "stream",
     "text": [
      "Summary:\n",
      " Large Language Models (LLMs) are a type of artificial intelligence system that can understand and generate human language . They are trained on vast amounts of text data from the internet, books, and other sources . Modern LLMs like GPT-4, Claude and PaLM have billions of parameters and can perform a wide range of language tasks .\n"
     ]
    },
    {
     "data": {
      "application/vnd.jupyter.widget-view+json": {
       "model_id": "7b9e9cb28e8f4dbd812a0069dad23139",
       "version_major": 2,
       "version_minor": 0
      },
      "text/plain": [
       "config.json:   0%|          | 0.00/473 [00:00<?, ?B/s]"
      ]
     },
     "metadata": {},
     "output_type": "display_data"
    },
    {
     "name": "stderr",
     "output_type": "stream",
     "text": [
      "c:\\Users\\u0086305\\Documents\\Advanced AI\\course-material\\venv\\Lib\\site-packages\\huggingface_hub\\file_download.py:142: UserWarning: `huggingface_hub` cache-system uses symlinks by default to efficiently store duplicated files but your machine does not support them in C:\\Users\\u0086305\\.cache\\huggingface\\hub\\models--distilbert--distilbert-base-cased-distilled-squad. Caching files will still work but in a degraded version that might require more space on your disk. This warning can be disabled by setting the `HF_HUB_DISABLE_SYMLINKS_WARNING` environment variable. For more details, see https://huggingface.co/docs/huggingface_hub/how-to-cache#limitations.\n",
      "To support symlinks on Windows, you either need to activate Developer Mode or to run Python as an administrator. In order to activate developer mode, see this article: https://docs.microsoft.com/en-us/windows/apps/get-started/enable-your-device-for-development\n",
      "  warnings.warn(message)\n"
     ]
    },
    {
     "data": {
      "application/vnd.jupyter.widget-view+json": {
       "model_id": "b8aaf80eb1b84c378ab9c165eeec9e19",
       "version_major": 2,
       "version_minor": 0
      },
      "text/plain": [
       "model.safetensors:   0%|          | 0.00/261M [00:00<?, ?B/s]"
      ]
     },
     "metadata": {},
     "output_type": "display_data"
    },
    {
     "data": {
      "application/vnd.jupyter.widget-view+json": {
       "model_id": "ac4bef663cdd48108400884a9a4c93f3",
       "version_major": 2,
       "version_minor": 0
      },
      "text/plain": [
       "tokenizer_config.json:   0%|          | 0.00/49.0 [00:00<?, ?B/s]"
      ]
     },
     "metadata": {},
     "output_type": "display_data"
    },
    {
     "data": {
      "application/vnd.jupyter.widget-view+json": {
       "model_id": "261263085e29486288c9debdd1867423",
       "version_major": 2,
       "version_minor": 0
      },
      "text/plain": [
       "vocab.txt:   0%|          | 0.00/213k [00:00<?, ?B/s]"
      ]
     },
     "metadata": {},
     "output_type": "display_data"
    },
    {
     "data": {
      "application/vnd.jupyter.widget-view+json": {
       "model_id": "5234368293024dda98fa0269cac10797",
       "version_major": 2,
       "version_minor": 0
      },
      "text/plain": [
       "tokenizer.json:   0%|          | 0.00/436k [00:00<?, ?B/s]"
      ]
     },
     "metadata": {},
     "output_type": "display_data"
    },
    {
     "name": "stderr",
     "output_type": "stream",
     "text": [
      "Device set to use cuda:0\n"
     ]
    },
    {
     "name": "stdout",
     "output_type": "stream",
     "text": [
      "\n",
      "Question Answering:\n",
      "Question: What capabilities do modern LLMs have?\n",
      "Answer: few-shot learning, chain-of-thought reasoning, and instruction following (Score: 0.2455)\n"
     ]
    },
    {
     "name": "stderr",
     "output_type": "stream",
     "text": [
      "Device set to use cuda:0\n"
     ]
    },
    {
     "name": "stdout",
     "output_type": "stream",
     "text": [
      "\n",
      "Translation (English to French):\n",
      "English: Large language models have transformed natural language processing.\n",
      "French: Les grands modèles linguistiques ont transformé le traitement des langues naturelles.\n"
     ]
    }
   ],
   "source": [
    "from transformers import pipeline\n",
    "\n",
    "# Text summarization\n",
    "summarizer = pipeline(\"summarization\", model=\"sshleifer/distilbart-cnn-12-6\")\n",
    "text_to_summarize = \"\"\"\n",
    "Large Language Models (LLMs) are a type of artificial intelligence system that can understand and \n",
    "generate human language. They are trained on vast amounts of text data from the internet, books, \n",
    "articles, and other sources. This training enables them to predict what words should come next in \n",
    "a sequence, which allows them to generate coherent and contextually relevant text. Modern LLMs like \n",
    "GPT-4, Claude, and PaLM have billions of parameters and can perform a wide range of language tasks, \n",
    "from answering questions and writing essays to translating languages and summarizing documents. Their \n",
    "capabilities have improved dramatically in recent years, with models demonstrating emergent abilities \n",
    "like few-shot learning, chain-of-thought reasoning, and instruction following.\n",
    "\"\"\"\n",
    "summary = summarizer(text_to_summarize, max_length=100, min_length=30, do_sample=False)\n",
    "print(\"Summary:\")\n",
    "print(summary[0]['summary_text'])\n",
    "\n",
    "# Question answering\n",
    "qa_pipeline = pipeline(\"question-answering\")\n",
    "context = text_to_summarize\n",
    "question = \"What capabilities do modern LLMs have?\"\n",
    "answer = qa_pipeline(question=question, context=context)\n",
    "print(\"\\nQuestion Answering:\")\n",
    "print(f\"Question: {question}\")\n",
    "print(f\"Answer: {answer['answer']} (Score: {answer['score']:.4f})\")\n",
    "\n",
    "# Translation\n",
    "translator = pipeline(\"translation_en_to_fr\", model=\"t5-small\")\n",
    "english_text = \"Large language models have transformed natural language processing.\"\n",
    "translation = translator(english_text, max_length=40)\n",
    "print(\"\\nTranslation (English to French):\")\n",
    "print(f\"English: {english_text}\")\n",
    "print(f\"French: {translation[0]['translation_text']}\")"
   ]
  },
  {
   "cell_type": "markdown",
   "metadata": {},
   "source": [
    "#### Emergent Abilities\n",
    "\n",
    "# Emergent Abilities in Large Language Models\n",
    "\n",
    "Emergent abilities are capabilities that appear in large language models unexpectedly, without being explicitly programmed or trained for. These abilities only manifest once models reach a certain scale or complexity, often appearing suddenly as models grow larger rather than improving gradually.\n",
    "\n",
    "## Why Emergent Abilities Are Fascinating\n",
    "\n",
    "What makes emergent abilities particularly interesting is their unpredictable nature. These capabilities arise from the complex interactions within the model rather than from direct engineering:\n",
    "\n",
    "1. Scientific surprise - Many emergent abilities weren't anticipated by researchers, challenging our understanding of what's possible with statistical pattern recognition. The fact that a system trained simply to predict the next word can suddenly perform complex reasoning represents a profound scientific mystery.\n",
    "\n",
    "2. Threshold effects - Rather than improving linearly with scale, many capabilities appear suddenly once models reach certain sizes. For example, models below certain parameter counts show almost no ability to solve complex reasoning tasks, then suddenly demonstrate competence when scaled up.\n",
    "\n",
    "3. Implications for AI development - Emergent abilities suggest that continuing to scale current approaches may yield capabilities we cannot currently predict. This has significant implications for AI safety, capabilities forecasting, and research priorities.\n",
    "\n",
    "4. Philosophical questions - The emergence of complex capabilities from simple training objectives raises deep questions about the nature of intelligence itself. How much of human cognition might be emergent from simpler processes? Where is the boundary between pattern recognition and \"true understanding\"?\n",
    "\n",
    "5. Practical applications - Many of the most useful applications of language models rely on emergent abilities like in-context learning and chain-of-thought reasoning, which weren't part of their original design goals.\n",
    "\n",
    "These abilities challenge our intuitions about what machine learning systems can do and suggest that modern AI systems might be fundamentally different from traditional software in their capacity to develop unexpected functionalities."
   ]
  },
  {
   "cell_type": "markdown",
   "metadata": {},
   "source": [
    "##### 1. In-context Learning\n",
    "\n",
    "- Pattern Recognition: Identifying and applying patterns from provided examples\n",
    "- Task Adaptation: Adapting to new tasks through demonstrations in the prompt\n",
    "- Zero-Shot Learning: Performing tasks with only instructions, no examples\n",
    "- Few-Shot Learning: Quickly adapting from minimal examples (1-5 demonstrations)\n",
    "- Metalearning: Learning how to learn within the context of a single conversation\n",
    "- Instruction Following: Understanding and executing complex multi-step instructions"
   ]
  },
  {
   "cell_type": "code",
   "execution_count": 4,
   "metadata": {},
   "outputs": [
    {
     "data": {
      "application/vnd.jupyter.widget-view+json": {
       "model_id": "2aa9e1c7026a4b0289ee4de88331ee62",
       "version_major": 2,
       "version_minor": 0
      },
      "text/plain": [
       "tokenizer_config.json:   0%|          | 0.00/26.0 [00:00<?, ?B/s]"
      ]
     },
     "metadata": {},
     "output_type": "display_data"
    },
    {
     "name": "stderr",
     "output_type": "stream",
     "text": [
      "c:\\Users\\u0086305\\Documents\\Advanced AI\\course-material\\venv\\Lib\\site-packages\\huggingface_hub\\file_download.py:142: UserWarning: `huggingface_hub` cache-system uses symlinks by default to efficiently store duplicated files but your machine does not support them in C:\\Users\\u0086305\\.cache\\huggingface\\hub\\models--gpt2-medium. Caching files will still work but in a degraded version that might require more space on your disk. This warning can be disabled by setting the `HF_HUB_DISABLE_SYMLINKS_WARNING` environment variable. For more details, see https://huggingface.co/docs/huggingface_hub/how-to-cache#limitations.\n",
      "To support symlinks on Windows, you either need to activate Developer Mode or to run Python as an administrator. In order to activate developer mode, see this article: https://docs.microsoft.com/en-us/windows/apps/get-started/enable-your-device-for-development\n",
      "  warnings.warn(message)\n"
     ]
    },
    {
     "data": {
      "application/vnd.jupyter.widget-view+json": {
       "model_id": "d0585cdfea564efd81ecaa2f1175424d",
       "version_major": 2,
       "version_minor": 0
      },
      "text/plain": [
       "config.json:   0%|          | 0.00/718 [00:00<?, ?B/s]"
      ]
     },
     "metadata": {},
     "output_type": "display_data"
    },
    {
     "data": {
      "application/vnd.jupyter.widget-view+json": {
       "model_id": "501436f6bf314a55bc3a1eb237418dde",
       "version_major": 2,
       "version_minor": 0
      },
      "text/plain": [
       "vocab.json:   0%|          | 0.00/1.04M [00:00<?, ?B/s]"
      ]
     },
     "metadata": {},
     "output_type": "display_data"
    },
    {
     "data": {
      "application/vnd.jupyter.widget-view+json": {
       "model_id": "2b86881606914bbb9bde2c7a281e06ba",
       "version_major": 2,
       "version_minor": 0
      },
      "text/plain": [
       "merges.txt:   0%|          | 0.00/456k [00:00<?, ?B/s]"
      ]
     },
     "metadata": {},
     "output_type": "display_data"
    },
    {
     "data": {
      "application/vnd.jupyter.widget-view+json": {
       "model_id": "31837dab038e45e9b9298d119fc3141a",
       "version_major": 2,
       "version_minor": 0
      },
      "text/plain": [
       "tokenizer.json:   0%|          | 0.00/1.36M [00:00<?, ?B/s]"
      ]
     },
     "metadata": {},
     "output_type": "display_data"
    },
    {
     "data": {
      "application/vnd.jupyter.widget-view+json": {
       "model_id": "6ba3b68ece2947318e680b257af7a9dc",
       "version_major": 2,
       "version_minor": 0
      },
      "text/plain": [
       "model.safetensors:   0%|          | 0.00/1.52G [00:00<?, ?B/s]"
      ]
     },
     "metadata": {},
     "output_type": "display_data"
    },
    {
     "data": {
      "application/vnd.jupyter.widget-view+json": {
       "model_id": "cc2ed0926f32400987ec0a80531aad4b",
       "version_major": 2,
       "version_minor": 0
      },
      "text/plain": [
       "generation_config.json:   0%|          | 0.00/124 [00:00<?, ?B/s]"
      ]
     },
     "metadata": {},
     "output_type": "display_data"
    },
    {
     "name": "stderr",
     "output_type": "stream",
     "text": [
      "The attention mask and the pad token id were not set. As a consequence, you may observe unexpected behavior. Please pass your input's `attention_mask` to obtain reliable results.\n",
      "Setting `pad_token_id` to `eos_token_id`:50256 for open-end generation.\n",
      "The attention mask is not set and cannot be inferred from input because pad token is same as eos token. As a consequence, you may observe unexpected behavior. Please pass your input's `attention_mask` to obtain reliable results.\n"
     ]
    },
    {
     "name": "stdout",
     "output_type": "stream",
     "text": [
      "\n",
      "Text: \"The movie was amazing and I loved it.\"\n",
      "Sentiment: Positive\n",
      "\n",
      "Text: \"The service was terrible and the food was cold.\"\n",
      "Sentiment: Negative\n",
      "\n",
      "Text: \"The book was just okay, neither great nor terrible.\"\n",
      "Sentiment: Neutral\n",
      "\n",
      "Text: \"I had a wonderful time at the concert and will definitely go again.\"\n",
      "Sentiment:\n",
      "\n",
      "Text: \"I\n"
     ]
    }
   ],
   "source": [
    "from transformers import AutoTokenizer, AutoModelForCausalLM\n",
    "\n",
    "# Load model and tokenizer\n",
    "tokenizer = AutoTokenizer.from_pretrained(\"gpt2-medium\")\n",
    "model = AutoModelForCausalLM.from_pretrained(\"gpt2-medium\")\n",
    "\n",
    "# In-context learning example with few-shot prompting\n",
    "prompt = \"\"\"\n",
    "Text: \"The movie was amazing and I loved it.\"\n",
    "Sentiment: Positive\n",
    "\n",
    "Text: \"The service was terrible and the food was cold.\"\n",
    "Sentiment: Negative\n",
    "\n",
    "Text: \"The book was just okay, neither great nor terrible.\"\n",
    "Sentiment: Neutral\n",
    "\n",
    "Text: \"I had a wonderful time at the concert and will definitely go again.\"\n",
    "Sentiment:\n",
    "\"\"\"\n",
    "\n",
    "inputs = tokenizer(prompt, return_tensors=\"pt\")\n",
    "outputs = model.generate(\n",
    "    inputs[\"input_ids\"],\n",
    "    max_length=len(inputs[\"input_ids\"][0]) + 5,\n",
    "    temperature=0.7,\n",
    "    top_p=0.9,\n",
    "    do_sample=True\n",
    ")\n",
    "\n",
    "print(tokenizer.decode(outputs[0], skip_special_tokens=True))"
   ]
  },
  {
   "cell_type": "markdown",
   "metadata": {},
   "source": [
    "##### Reasoning Capabilities\n",
    "\n",
    "- Chain-of-Thought Reasoning: Breaking complex problems into sequential steps\n",
    "- Mathematical Problem Solving: Working through calculations and equations step-by-step\n",
    "- Tool-Use Reasoning: Understanding when and how to use defined tools or functions\n",
    "- Counterfactual Reasoning: Exploring hypothetical scenarios and their implications\n",
    "- Analogical Reasoning: Drawing parallels between different domains to solve problems\n",
    "- Tree of Thoughts: Exploring multiple reasoning paths and evaluating outcomes"
   ]
  },
  {
   "cell_type": "code",
   "execution_count": null,
   "metadata": {},
   "outputs": [
    {
     "name": "stderr",
     "output_type": "stream",
     "text": [
      "The attention mask and the pad token id were not set. As a consequence, you may observe unexpected behavior. Please pass your input's `attention_mask` to obtain reliable results.\n",
      "Setting `pad_token_id` to `eos_token_id`:50256 for open-end generation.\n"
     ]
    },
    {
     "name": "stdout",
     "output_type": "stream",
     "text": [
      "\n",
      "Problem: If a shirt costs $25 and is discounted by 20%, then there's an additional 10% off the discounted price, what is the final price?\n",
      "Let's think step by step:\n",
      "1. Original price is $25\n",
      "2. 20% discount means we pay 80% of the price: $25 * 0.8 = $20\n",
      "3. Additional 10% off the discounted price: $20 * 0.9 = $18\n",
      "Therefore, the final price is $18.\n",
      "\n",
      "Problem: A car travels 150 miles in 3 hours. What is the average speed in miles per hour?\n",
      "Let's think step by step:\n",
      "\n",
      "1. Original price is $100\n",
      "\n",
      "2. Discounted price is $5\n",
      "\n",
      "3. 20% discount means we pay 40% of the price: $100 * 0.5 = $40\n",
      "\n",
      "4. Additional 10%\n"
     ]
    }
   ],
   "source": [
    "# Chain-of-thought example (note: results may vary with GPT-2; ideal with larger models)\n",
    "standard_prompt = \"\"\"\n",
    "Problem: If a shirt costs $25 and is discounted by 20%, then there's an additional 10% off the discounted price, what is the final price?\n",
    "Answer:\n",
    "\"\"\"\n",
    "\n",
    "cot_prompt = \"\"\"\n",
    "Problem: If a shirt costs $25 and is discounted by 20%, then there's an additional 10% off the discounted price, what is the final price?\n",
    "Let's think step by step:\n",
    "1. Original price is $25\n",
    "2. 20% discount means we pay 80% of the price: $25 - 0.8 = $20\n",
    "3. Additional 10% off the discounted price: $20 - 0.9 = $18\n",
    "Therefore, the final price is $18.\n",
    "\n",
    "Problem: A car travels 150 miles in 3 hours. What is the average speed in miles per hour?\n",
    "Let's think step by step:\n",
    "\"\"\"\n",
    "\n",
    "# Generate response with chain-of-thought prompt\n",
    "inputs = tokenizer(cot_prompt, return_tensors=\"pt\")\n",
    "outputs = model.generate(\n",
    "    inputs[\"input_ids\"],\n",
    "    max_length=len(inputs[\"input_ids\"][0]) + 50,\n",
    "    temperature=0.7,\n",
    "    top_p=0.9,\n",
    "    do_sample=True\n",
    ")\n",
    "\n",
    "print(tokenizer.decode(outputs[0], skip_special_tokens=True))"
   ]
  },
  {
   "cell_type": "markdown",
   "metadata": {},
   "source": [
    "#### Abstraction and Generalization\n",
    "- Concept Formation: Creating higher-level concepts from specific examples\n",
    "- Transfer Learning: Applying knowledge from one domain to another\n",
    "- Abstract Rule Induction: Inferring general principles from specific instances\n",
    "- Categorical Reasoning: Organizing information into appropriate taxonomies\n",
    "- Conceptual Blending: Combining different concepts to generate new insights\n",
    "- Cross-Domain Application: Utilizing strategies across unrelated problem spaces\n",
    "\n",
    "#### Self-Improvement\n",
    "- Self-Correction: Identifying and fixing errors in earlier outputs\n",
    "- Self-Evaluation: Assessing the quality and limitations of generated content\n",
    "- Self-Consistency: Using multiple solution paths to validate conclusions\n",
    "- Self-Verification: Double-checking work and conclusions for accuracy\n",
    "- Deliberate Reasoning: Taking time to think through problems thoroughly\n",
    "- Iterative Refinement: Progressively improving outputs through multiple passes\n",
    "\n",
    "## Social Intelligence\n",
    "- Theory of Mind: Modeling other agents' beliefs, desires, and intentions\n",
    "- Perspective Taking: Considering viewpoints different from the default\n",
    "- Cultural Sensitivity: Adjusting responses based on cultural contexts\n",
    "- Emotional Intelligence: Recognizing and responding to emotional cues\n",
    "- Social Dynamics Understanding: Navigating complex interpersonal situations\n",
    "- Ethical Reasoning: Weighing moral considerations in complex scenarios\n",
    "\n",
    "## Creative Generation\n",
    "- Novel Idea Synthesis: Combining existing concepts in original ways\n",
    "- Lateral Thinking: Approaching problems from unexpected angles\n",
    "- Innovative Problem Solving: Devising unique solutions to complex issues\n",
    "- Conceptual Expansion: Extending existing ideas into new domains\n",
    "- Counterfactual Imagination: Exploring \"what if\" scenarios beyond training data\n",
    "- Guided Creativity: Producing creative outputs within specific constraints\n",
    "\n",
    "## Meta-Cognition\n",
    "- Strategy Selection: Choosing appropriate approaches for different problems\n",
    "- Confidence Calibration: Indicating certainty levels about provided information\n",
    "- Knowledge Boundary Awareness: Recognizing limits of capabilities and knowledge\n",
    "- Assumption Identification: Surfacing implicit premises in reasoning\n",
    "- Epistemic Status Tracking: Distinguishing between facts, beliefs, and speculation\n",
    "- Alternative Consideration: Evaluating multiple possible approaches before deciding\n",
    "\n",
    "## Scale-Dependent Emergence\n",
    "- Threshold Effects: Abilities that appear only after reaching certain parameter counts\n",
    "- Qualitative Transitions: Discontinuous improvements in capabilities at certain scales\n",
    "- Compositional Generalization: Combining learned elements in novel ways\n",
    "- Complex Task Integration: Coordinating multiple abilities for sophisticated tasks\n",
    "- Nuanced Understanding: Capturing subtle distinctions invisible to smaller models\n",
    "- Training Paradigm Transcendence: Exceeding the explicit objectives of training"
   ]
  },
  {
   "cell_type": "markdown",
   "metadata": {},
   "source": [
    "## Challenges and Limitations\n",
    "\n",
    "### Technical Challenges in Large Language Models\n",
    "\n",
    "#### Context Window Limitations\n",
    "- Finite Memory Constraint: Most models have a maximum token limit (ranging from 4K to 128K tokens) restricting the amount of text they can process at once\n",
    "- Information Accessibility: Critical information beyond the context window becomes inaccessible to the model\n",
    "- Conversation Truncation: In extended dialogues, earlier messages may be dropped\n",
    "- Document Processing Barriers: Inability to process long documents, books, or code bases in their entirety\n",
    "- Reasoning Across Boundaries: Difficulty maintaining coherent reasoning across separated portions of text\n",
    "- Architectural Bottlenecks: Quadratic attention complexity in transformer models creates scaling challenges\n",
    "- Retrieval Necessity: Often requires external retrieval systems to access information outside the context window\n",
    "\n",
    "#### Computational Requirements\n",
    "- Training Infrastructure: Requires massive compute clusters with thousands of GPUs/TPUs\n",
    "- Financial Barriers: Training costs for frontier models can exceed $100 million\n",
    "- Inference Expenses: Serving large models demands significant computational resources\n",
    "- Energy Consumption: High carbon footprint associated with training and deployment\n",
    "- Latency Challenges: Generating responses in real-time requires optimization\n",
    "- Scaling Limitations: Diminishing returns on certain capabilities as scale increases\n",
    "- Specialization Tradeoffs: Balancing general capabilities versus domain-specific optimization\n",
    "- Quantization Complexities: Reducing precision to improve efficiency often degrades performance\n",
    "\n",
    "#### Knowledge Cutoffs\n",
    "- Static Training Data: Models have fixed knowledge as of their training cutoff date\n",
    "- Temporal Obsolescence: Information becomes outdated as time passes\n",
    "- Current Events Blindness: Inability to access real-time information or recent developments\n",
    "- Factual Decay: Accuracy of factual knowledge degrades over time\n",
    "- Evolving Consensus: Cannot track changing scientific or social consensus\n",
    "- Retrieval Requirements: Need for external tools to access post-training information\n",
    "- Freshness Tradeoffs: Balancing stable knowledge versus up-to-date information\n",
    "- Retraining Necessities: Periodic updates required to maintain relevance\n",
    "\n",
    "#### Hallucinations\n",
    "- Confabulation: Generating plausible but factually incorrect information with high confidence\n",
    "- Blend of Fiction and Reality: Seamlessly mixing accurate and inaccurate details\n",
    "- Consistency Without Accuracy: Maintaining internal coherence while diverging from facts\n",
    "- Source Ambiguity: Difficulty distinguishing between reliable and unreliable training data\n",
    "- Overconfidence: Failing to express appropriate uncertainty about generated information\n",
    "- Specificity Trap: Providing precise but incorrect details instead of general statements\n",
    "- Reasoning Fallacies: Constructing logically sound arguments from incorrect premises\n",
    "- Amplification Biases: Tendency to exaggerate or misrepresent certain topics\n",
    "- Causal Confusion: Misattributing causes and effects in complex phenomena\n",
    "\n",
    "#### Architectural Limitations\n",
    "- Representational Bottlenecks: Fixed-dimension vector representations limit certain forms of reasoning\n",
    "- Attention Mechanism Constraints: Difficulty with certain types of hierarchical or compositional reasoning\n",
    "- Inductive Biases: Architectural choices that favor certain types of patterns over others\n",
    "- Modality Integration Challenges: Limitations in processing multiple modalities simultaneously\n",
    "- Temporal Reasoning Weaknesses: Difficulty with complex temporal relationships and sequences\n",
    "- Spatial Understanding Deficits: Limited ability to reason about physical space and relationships\n",
    "- Symbolic Manipulation Constraints: Challenges with consistent variable binding and manipulation\n",
    "- Exploration Inefficiency: Tendency to converge on likely solutions rather than exploring alternatives\n",
    "\n",
    "#### Evaluation Challenges\n",
    "- Benchmark Saturation: Models reaching human-level performance on standard tests\n",
    "- Measurement Complexity: Difficulty quantifying abstract capabilities like reasoning or creativity\n",
    "- Adversarial Vulnerabilities: Performance degrades under targeted testing scenarios\n",
    "- Cultural Bias: Evaluation tools often reflect Western, English-language biases\n",
    "- Generalization Assessment: Challenges in measuring true generalization beyond training patterns\n",
    "- Capability Collapse: Inconsistent performance across similar tasks or prompts\n",
    "- Emergent Behavior Detection: Difficulty identifying and measuring novel capabilities\n",
    "- Safety Evaluation: Incompleteness of current safety measurement frameworks"
   ]
  },
  {
   "cell_type": "markdown",
   "metadata": {},
   "source": [
    "### Ethical Considerations\n",
    "\n",
    "#### Bias and Fairness:\n",
    "\n",
    "LLMs are trained on massive datasets scraped from the internet, which often reflect and even amplify existing societal biases related to gender, race, religion, sexual orientation, and other protected characteristics. This can lead to models generating outputs that are discriminatory or unfair. For example, a model might associate certain professions with specific genders or produce biased language towards particular demographic groups.\n",
    "* Impact: This can perpetuate harmful stereotypes, create or exacerbate social inequalities, and negatively impact individuals and communities.\n",
    "* Mitigation: Researchers are working on techniques to mitigate bias, such as debiasing training data, developing fairness-aware algorithms, and implementing post-processing methods. However, achieving true fairness is a complex and ongoing challenge.\n",
    "\n",
    "#### Misinformation:\n",
    "\n",
    "LLMs can generate highly realistic and convincing text, making it difficult to distinguish between factual information and fabricated content. This capability can be exploited to create and spread misinformation, propaganda, and fake news.\n",
    "* Impact: The rapid dissemination of false information can have serious consequences, including manipulating public opinion, inciting violence, and undermining trust in institutions.\n",
    "* Mitigation: Developing methods for detecting and flagging AI-generated misinformation is crucial. This includes watermarking generated text, improving fact-checking tools, and promoting media literacy.\n",
    "\n",
    "#### Privacy Concerns:\n",
    "\n",
    "LLMs are trained on vast amounts of data, which may include personal information, sensitive conversations, and copyrighted material. This raises concerns about privacy violations, data security, and intellectual property rights. Additionally, the ability of LLMs to generate realistic text can be used to create deepfakes and impersonate individuals.\n",
    "* Impact: Individuals may suffer from identity theft, reputational damage, and emotional distress.\n",
    "* Mitigation: Implementing robust data privacy regulations, developing privacy-preserving training techniques, and enhancing user control over their data are essential.\n",
    "\n",
    "#### Dual-Use Potential:\n",
    "\n",
    "The same capabilities that make LLMs powerful tools for beneficial applications can also be exploited for malicious purposes. This includes generating sophisticated phishing emails, creating propaganda for extremist groups, developing automated cyberattacks, and even designing biological weapons.\n",
    "* Impact: The potential for misuse poses a significant threat to cybersecurity, public safety, and international security.\n",
    "* Mitigation: Establishing ethical guidelines for LLM development and deployment, implementing access controls, and fostering responsible innovation are crucial. International cooperation and regulation may also be necessary to address the dual-use challenge."
   ]
  },
  {
   "cell_type": "code",
   "execution_count": 12,
   "metadata": {},
   "outputs": [
    {
     "data": {
      "image/png": "[encoded data removed]",
      "text/plain": [
       "<Figure size 1000x800 with 1 Axes>"
      ]
     },
     "metadata": {},
     "output_type": "display_data"
    }
   ],
   "source": [
    "# Example: Detecting bias in word embeddings\n",
    "from sklearn.decomposition import PCA\n",
    "import matplotlib.pyplot as plt\n",
    "import numpy as np\n",
    "import torch\n",
    "from transformers import BertModel, BertTokenizer\n",
    "\n",
    "# Load pre-trained model and tokenizer\n",
    "tokenizer = BertTokenizer.from_pretrained('bert-base-uncased')\n",
    "model = BertModel.from_pretrained('bert-base-uncased')\n",
    "\n",
    "# Define word pairs to analyze\n",
    "male_words = [\"man\", \"boy\", \"father\", \"son\", \"he\", \"him\"]\n",
    "female_words = [\"woman\", \"girl\", \"mother\", \"daughter\", \"she\", \"her\"]\n",
    "profession_words = [\"doctor\", \"nurse\", \"engineer\", \"teacher\", \"scientist\", \"artist\"]\n",
    "\n",
    "# Get embeddings\n",
    "def get_word_embedding(word):\n",
    "    inputs = tokenizer(word, return_tensors=\"pt\")\n",
    "    with torch.no_grad():\n",
    "        outputs = model(**inputs)  # Corrected line: unpack the inputs dictionary\n",
    "    # Use the embedding of the first token (CLS token)\n",
    "    return outputs.last_hidden_state[0, 0].numpy()\n",
    "\n",
    "# Collect embeddings\n",
    "male_embeddings = [get_word_embedding(word) for word in male_words]\n",
    "female_embeddings = [get_word_embedding(word) for word in female_words]\n",
    "profession_embeddings = [get_word_embedding(word) for word in profession_words]\n",
    "\n",
    "# Combine all embeddings\n",
    "all_words = male_words + female_words + profession_words\n",
    "all_embeddings = male_embeddings + female_embeddings + profession_embeddings\n",
    "\n",
    "# Apply PCA for visualization\n",
    "pca = PCA(n_components=2)\n",
    "embeddings_2d = pca.fit_transform(all_embeddings)\n",
    "\n",
    "# Plot\n",
    "plt.figure(figsize=(10, 8))\n",
    "plt.scatter(embeddings_2d[:len(male_words), 0], embeddings_2d[:len(male_words), 1], color='blue', label='Male')\n",
    "plt.scatter(embeddings_2d[len(male_words):len(male_words)+len(female_words), 0], \n",
    "            embeddings_2d[len(male_words):len(male_words)+len(female_words), 1], \n",
    "            color='red', label='Female')\n",
    "plt.scatter(embeddings_2d[len(male_words)+len(female_words):, 0], \n",
    "            embeddings_2d[len(male_words)+len(female_words):, 1], \n",
    "            color='green', label='Professions')\n",
    "\n",
    "# Add word labels\n",
    "for i, word in enumerate(all_words):\n",
    "    plt.annotate(word, (embeddings_2d[i, 0], embeddings_2d[i, 1]))\n",
    "\n",
    "plt.title('Word Embeddings Visualization for Gender Bias Analysis')\n",
    "plt.legend()\n",
    "plt.grid(True)\n",
    "plt.show()"
   ]
  },
  {
   "cell_type": "markdown",
   "metadata": {},
   "source": [
    "#### Current Research Directions\n",
    "\n",
    "##### Retrieval-Augmented Generation (RAG): Combining LLMs with Knowledge Databases:\n",
    "\n",
    "RAG addresses the limitations of LLMs' knowledge cutoff and tendency to hallucinate by integrating them with external knowledge sources. Instead of relying solely on their pre-trained parameters, LLMs can retrieve relevant information from databases, knowledge graphs, or document repositories during the generation process. This allows them to provide more accurate, up-to-date, and contextually grounded responses.\n",
    "* Benefits:\n",
    "    * Improved factual accuracy and reduced hallucinations.\n",
    "    * Access to real-time information and domain-specific knowledge.\n",
    "    * Enhanced transparency by citing sources.\n",
    "    * Increased adaptability to changing information landscapes.\n",
    "* Challenges:\n",
    "    * Efficiently retrieving relevant information from large databases.\n",
    "    * Determining the optimal balance between retrieved information and model-generated content.\n",
    "    * Handling noisy or inconsistent information from external sources.\n",
    "\n",
    "##### Multimodal Models: Integrating Text with Images, Audio, and Other Modalities:\n",
    "\n",
    "Multimodal LLMs aim to bridge the gap between language and other forms of data, such as images, audio, video, and sensor data. By training models on diverse datasets that encompass multiple modalities, researchers are enabling LLMs to understand and generate content that transcends textual boundaries.\n",
    "* Applications:\n",
    "    * Image captioning and visual question answering.\n",
    "    * Audio transcription and speech synthesis.\n",
    "    * Video understanding and generation.\n",
    "    * Cross-modal search and retrieval.\n",
    "* Significance:\n",
    "    * Enables more natural and intuitive human-computer interaction.\n",
    "    * Expands the range of tasks that LLMs can perform.\n",
    "    * Facilitates a deeper understanding of the world through the integration of multiple sensory inputs.\n",
    "\n",
    "##### Alignment Techniques: Ensuring Models Follow Human Values and Preferences:\n",
    "\n",
    "Alignment focuses on aligning LLM behavior with human values, ethical principles, and societal norms. This involves developing techniques to prevent models from generating harmful, biased, or misleading content. Reinforcement learning from human feedback (RLHF) and constitutional AI are examples of methods used to guide models toward desired behaviors.\n",
    "* Importance:\n",
    "    * Mitigating the risks of bias, misinformation, and harmful outputs.\n",
    "    * Building trust and ensuring responsible AI development.\n",
    "    * Creating LLMs that are safe, ethical, and beneficial to society.\n",
    "* Challenges:\n",
    "    * Defining and formalizing human values and preferences.\n",
    "    * Collecting high-quality human feedback at scale.\n",
    "    * Preventing models from exploiting loopholes or adversarial examples.\n",
    "\n",
    "##### Efficiency Improvements: Reducing Model Size While Maintaining Performance:\n",
    "\n",
    "As LLMs grow larger, their computational demands and environmental impact increase. Efficiency improvements aim to reduce the size and complexity of models while preserving their performance. Techniques such as model distillation, quantization, pruning, and efficient transformer architectures are being explored.\n",
    "* Goals:\n",
    "    * Reducing computational costs and energy consumption.\n",
    "    * Enabling deployment of LLMs on resource-constrained devices.\n",
    "    * Making LLMs more accessible and sustainable.\n",
    "* Impact:\n",
    "    * Accelerating the adoption of LLMs in various applications.\n",
    "    * Democratizing access to advanced AI technologies.\n",
    "    * Contributing to a more environmentally friendly AI ecosystem.\n",
    "\n",
    "##### Long-Context Handling: Extending Context Windows for Better Reasoning:\n",
    "\n",
    "Standard transformer architectures have limitations on the length of input sequences they can process. Long-context handling research focuses on extending the context windows of LLMs to enable them to process and reason over longer documents, conversations, and narratives. Techniques such as sparse attention, memory mechanisms, and hierarchical transformers are being developed.\n",
    "* Benefits:\n",
    "    * Improved coherence and consistency in long-form generation.\n",
    "    * Enhanced ability to understand and summarize complex documents.\n",
    "    * Better performance in tasks that require reasoning over extended contexts.\n",
    "* Applications:\n",
    "    * Long-form question answering and document summarization.\n",
    "    * Code generation and debugging.\n",
    "    * Story generation and scriptwriting.\n",
    "    * Improved conversation capabilities."
   ]
  },
  {
   "cell_type": "markdown",
   "metadata": {},
   "source": [
    "## Hands-on Exercise: Building a Simple Text Classifier\n",
    "\n",
    "Let's build a simple text classifier using a pre-trained transformer model:"
   ]
  },
  {
   "cell_type": "code",
   "execution_count": 22,
   "metadata": {},
   "outputs": [
    {
     "name": "stdout",
     "output_type": "stream",
     "text": [
      "DatasetDict({\n",
      "    train: Dataset({\n",
      "        features: ['text', 'label'],\n",
      "        num_rows: 8530\n",
      "    })\n",
      "    validation: Dataset({\n",
      "        features: ['text', 'label'],\n",
      "        num_rows: 1066\n",
      "    })\n",
      "    test: Dataset({\n",
      "        features: ['text', 'label'],\n",
      "        num_rows: 1066\n",
      "    })\n",
      "})\n"
     ]
    },
    {
     "name": "stderr",
     "output_type": "stream",
     "text": [
      "Some weights of DistilBertForSequenceClassification were not initialized from the model checkpoint at distilbert-base-uncased and are newly initialized: ['classifier.bias', 'classifier.weight', 'pre_classifier.bias', 'pre_classifier.weight']\n",
      "You should probably TRAIN this model on a down-stream task to be able to use it for predictions and inference.\n"
     ]
    },
    {
     "data": {
      "application/vnd.jupyter.widget-view+json": {
       "model_id": "87dfa52ff9b64abf94f14f7e66680b73",
       "version_major": 2,
       "version_minor": 0
      },
      "text/plain": [
       "Map:   0%|          | 0/8530 [00:00<?, ? examples/s]"
      ]
     },
     "metadata": {},
     "output_type": "display_data"
    },
    {
     "data": {
      "application/vnd.jupyter.widget-view+json": {
       "model_id": "2a09ad4b63cf469db801bf44f33d5777",
       "version_major": 2,
       "version_minor": 0
      },
      "text/plain": [
       "Map:   0%|          | 0/1066 [00:00<?, ? examples/s]"
      ]
     },
     "metadata": {},
     "output_type": "display_data"
    },
    {
     "name": "stderr",
     "output_type": "stream",
     "text": [
      "c:\\Users\\u0086305\\Documents\\Advanced AI\\course-material\\venv\\Lib\\site-packages\\transformers\\optimization.py:640: FutureWarning: This implementation of AdamW is deprecated and will be removed in a future version. Use the PyTorch implementation torch.optim.AdamW instead, or set `no_deprecation_warning=True` to disable this warning\n",
      "  warnings.warn(\n"
     ]
    },
    {
     "name": "stdout",
     "output_type": "stream",
     "text": [
      "Epoch 1, Loss: 0.4196100826008936\n",
      "Epoch 2, Loss: 0.2129987957555982\n",
      "Epoch 3, Loss: 0.08343977915525981\n",
      "Accuracy: 0.8340\n",
      "\n",
      "Classification Report:\n",
      "              precision    recall  f1-score   support\n",
      "\n",
      "    negative       0.83      0.84      0.84       533\n",
      "    positive       0.84      0.82      0.83       533\n",
      "\n",
      "    accuracy                           0.83      1066\n",
      "   macro avg       0.83      0.83      0.83      1066\n",
      "weighted avg       0.83      0.83      0.83      1066\n",
      "\n",
      "Text: This movie was fantastic! I really enjoyed every moment of it.\n",
      "Sentiment: positive\n",
      "\n",
      "Text: The acting was terrible and the plot made no sense.\n",
      "Sentiment: negative\n",
      "\n",
      "Text: It was okay, but nothing special.\n",
      "Sentiment: negative\n",
      "\n"
     ]
    }
   ],
   "source": [
    "from transformers import AutoTokenizer, AutoModelForSequenceClassification\n",
    "from datasets import load_dataset\n",
    "import torch\n",
    "from torch.utils.data import DataLoader\n",
    "from transformers import AdamW\n",
    "from sklearn.metrics import accuracy_score, classification_report\n",
    "\n",
    "# Load dataset\n",
    "dataset = load_dataset(\"rotten_tomatoes\")\n",
    "print(dataset)\n",
    "\n",
    "# training/test split\n",
    "train_dataset = dataset[\"train\"]\n",
    "test_dataset = dataset[\"test\"]\n",
    "\n",
    "# Load pre-trained model and tokenizer\n",
    "model_name = \"distilbert-base-uncased\"\n",
    "tokenizer = AutoTokenizer.from_pretrained(model_name)\n",
    "model = AutoModelForSequenceClassification.from_pretrained(model_name, num_labels=2)\n",
    "\n",
    "# Tokenize datasets\n",
    "def tokenize_function(examples):\n",
    "    return tokenizer(examples[\"text\"], padding=\"max_length\", truncation=True, max_length=128)\n",
    "\n",
    "tokenized_train = train_dataset.map(tokenize_function, batched=True)\n",
    "tokenized_test = test_dataset.map(tokenize_function, batched=True)\n",
    "\n",
    "# Convert to PyTorch format (corrected)\n",
    "tokenized_train.set_format(\"torch\", columns=[\"input_ids\", \"attention_mask\", \"label\"])\n",
    "tokenized_test.set_format(\"torch\", columns=[\"input_ids\", \"attention_mask\", \"label\"])\n",
    "\n",
    "# Create data loaders\n",
    "train_dataloader = DataLoader(tokenized_train, batch_size=16, shuffle=True)\n",
    "test_dataloader = DataLoader(tokenized_test, batch_size=16)\n",
    "\n",
    "# Training setup\n",
    "optimizer = AdamW(model.parameters(), lr=5e-5)\n",
    "device = torch.device(\"cuda\" if torch.cuda.is_available() else \"cpu\")\n",
    "model.to(device)\n",
    "\n",
    "# Training loop\n",
    "num_epochs = 3\n",
    "\n",
    "for epoch in range(num_epochs):\n",
    "    model.train()\n",
    "    total_loss = 0\n",
    "    \n",
    "    for batch in train_dataloader:\n",
    "        # Corrected line: Use 'labels' instead of 'label'\n",
    "        batch = {k: v.to(device) for k, v in batch.items()}\n",
    "        batch[\"labels\"] = batch.pop(\"label\") #rename label to labels\n",
    "        outputs = model(**batch)\n",
    "        loss = outputs.loss\n",
    "        total_loss += loss.item()\n",
    "        \n",
    "        loss.backward()\n",
    "        optimizer.step()\n",
    "        optimizer.zero_grad()\n",
    "    print(f\"Epoch {epoch+1}, Loss: {total_loss/len(train_dataloader)}\")\n",
    "\n",
    "# Evaluation\n",
    "model.eval()\n",
    "predictions = []\n",
    "true_labels = []\n",
    "\n",
    "for batch in test_dataloader:\n",
    "    batch = {k: v.to(device) for k, v in batch.items()}\n",
    "    batch[\"labels\"] = batch.pop(\"label\")\n",
    "    with torch.no_grad():\n",
    "        outputs = model(**batch)\n",
    "    logits = outputs.logits\n",
    "    predicted_classes = torch.argmax(logits, dim=1)\n",
    "    predictions.extend(predicted_classes.cpu().tolist())\n",
    "    true_labels.extend(batch[\"labels\"].cpu().tolist())\n",
    "\n",
    "# Calculate accuracy\n",
    "accuracy = accuracy_score(true_labels, predictions)\n",
    "print(f\"Accuracy: {accuracy:.4f}\")\n",
    "\n",
    "# Check for unique labels\n",
    "unique_labels = set(true_labels + predictions)\n",
    "\n",
    "# Print classification report only if there are two classes\n",
    "if len(unique_labels) == 2:\n",
    "    print(\"\\nClassification Report:\")\n",
    "    print(classification_report(true_labels, predictions, target_names=[\"negative\", \"positive\"]))\n",
    "else:\n",
    "    print(\"\\nClassification Report not available (only one class predicted).\")\n",
    "\n",
    "# Test on specific examples\n",
    "def predict_sentiment(text):\n",
    "    inputs = tokenizer(text, padding=True, truncation=True, return_tensors=\"pt\").to(device)\n",
    "    with torch.no_grad():\n",
    "        outputs = model(**inputs)\n",
    "    pred = torch.argmax(outputs.logits, dim=1).item()\n",
    "    return \"positive\" if pred == 1 else \"negative\"\n",
    "\n",
    "test_texts = [\n",
    "    \"This movie was fantastic! I really enjoyed every moment of it.\",\n",
    "    \"The acting was terrible and the plot made no sense.\",\n",
    "    \"It was okay, but nothing special.\"\n",
    "]\n",
    "\n",
    "for text in test_texts:\n",
    "    print(f\"Text: {text}\\nSentiment: {predict_sentiment(text)}\\n\")"
   ]
  },
  {
   "cell_type": "markdown",
   "metadata": {},
   "source": [
    "## Prompt Engineering Demonstration\n",
    "\n",
    "Let's explore how different prompting techniques affect the output of language models:"
   ]
  },
  {
   "cell_type": "code",
   "execution_count": 25,
   "metadata": {},
   "outputs": [
    {
     "name": "stderr",
     "output_type": "stream",
     "text": [
      "Device set to use cuda:0\n",
      "Setting `pad_token_id` to `eos_token_id`:50256 for open-end generation.\n",
      "Setting `pad_token_id` to `eos_token_id`:50256 for open-end generation.\n"
     ]
    },
    {
     "name": "stdout",
     "output_type": "stream",
     "text": [
      "Basic Prompt Result:\n",
      "Natural language processing is used in several software applications that rely on its ability to recognize objects with semantic meaning in real time. An example would be in speech recognition software, in which the speaker provides the target object by word or sentence description, and then the software interprets these words in context to deliver the translation. In this article, we describe a novel approach to text-based semantic retrieval, characterized by the presence of nonlinear, non-local, and dynamic, and non-local, and dynamic, and non-local and non-local, models of the structure of objects. The framework has been developed using the Python language and contains multiple parallel, distributed algorithms as well as a new linear model, that is non-localized. The implementation\n",
      "\n",
      "--------------------------------------------------\n",
      "\n"
     ]
    },
    {
     "name": "stderr",
     "output_type": "stream",
     "text": [
      "Setting `pad_token_id` to `eos_token_id`:50256 for open-end generation.\n"
     ]
    },
    {
     "name": "stdout",
     "output_type": "stream",
     "text": [
      "Instruction Prompt Result:\n",
      "Define natural language processing in simple terms:\n",
      "\n",
      "- Define processing capabilities at the core level, on each node\n",
      "\n",
      "- Define a language API defined inside a function definition\n",
      "\n",
      "- For the core language implementation, define language concepts and define functions in that language\n",
      "\n",
      "- Define the core language concepts and define functions inside that language\n",
      "\n",
      "- Define a language API that runs for every node in the language tree\n",
      "\n",
      "- Define a language API based on this API definition.\n",
      "\n",
      "- Define a language API based on this API defined inside another function definition\n",
      "\n",
      "- For each node in the grammar tree, create a node called lexicon. The grammar tree should fit inside a list-based vocabulary\n",
      "\n",
      ".\n",
      "\n",
      "--------------------------------------------------\n",
      "\n",
      "Few-shot Prompt Result:\n",
      "\n",
      "Define machine learning in simple terms: Machine learning is a way for computers to learn patterns from data without being explicitly programmed. It's like teaching a computer by showing it examples rather than giving it specific instructions.\n",
      "\n",
      "Define deep learning in simple terms: Deep learning is a type of machine learning that uses neural networks with many layers to learn complex patterns in data. It's inspired by how the human brain works and is particularly good at tasks like image and speech recognition.\n",
      "\n",
      "Define natural language processing in simple terms:\n",
      "\n",
      "If you can grasp the concept of natural language parsing well, you can pretty much parse anything in a language-learning program, for both humans and computers. Natural language processing is one of the more popular areas\n"
     ]
    }
   ],
   "source": [
    "from transformers import pipeline\n",
    "\n",
    "# Initialize text generation pipeline\n",
    "generator = pipeline('text-generation', model='gpt2-medium', max_length=150, truncation=True)\n",
    "\n",
    "# Basic prompt\n",
    "basic_prompt = \"Natural language processing is\"\n",
    "basic_result = generator(basic_prompt)\n",
    "print(\"Basic Prompt Result:\")\n",
    "print(basic_result[0]['generated_text'])\n",
    "print(\"\\n\" + \"-\" * 50 + \"\\n\")\n",
    "\n",
    "# Specific instruction prompt\n",
    "instruction_prompt = \"Define natural language processing in simple terms:\"\n",
    "instruction_result = generator(instruction_prompt)\n",
    "print(\"Instruction Prompt Result:\")\n",
    "print(instruction_result[0]['generated_text'])\n",
    "print(\"\\n\" + \"-\" * 50 + \"\\n\")\n",
    "\n",
    "# Few-shot prompt\n",
    "few_shot_prompt = \"\"\"\n",
    "Define machine learning in simple terms: Machine learning is a way for computers to learn patterns from data without being explicitly programmed. It's like teaching a computer by showing it examples rather than giving it specific instructions.\n",
    "\n",
    "Define deep learning in simple terms: Deep learning is a type of machine learning that uses neural networks with many layers to learn complex patterns in data. It's inspired by how the human brain works and is particularly good at tasks like image and speech recognition.\n",
    "\n",
    "Define natural language processing in simple terms:\n",
    "\"\"\"\n",
    "few_shot_result = generator(few_shot_prompt)\n",
    "print(\"Few-shot Prompt Result:\")\n",
    "print(few_shot_result[0]['generated_text'])"
   ]
  },
  {
   "cell_type": "markdown",
   "metadata": {},
   "source": [
    "### Ideas for Exercises\n",
    "\n",
    "1. Basic Text Classification: Build a simple sentiment analysis model using BERT\n",
    "2. Named Entity Recognition: Implement a custom NER system for a specific domain\n",
    "3. Prompt Engineering: Experiment with different prompting techniques and analyze results\n",
    "4. Fine-tuning Project: Fine-tune a pre-trained model on a domain-specific dataset\n",
    "5. Retrieval-Augmented Generation: Build a simple RAG system combining an LLM with a knowledge base"
   ]
  },
  {
   "cell_type": "markdown",
   "metadata": {},
   "source": [
    "## Beyond LLMs?\n",
    "\n",
    "While LLMs have captured much of the recent attention, Generative AI encompasses a broader range of models and applications. What else is out there? \n",
    "\n",
    "### Diverse Model Architectures and Modalities:\n",
    "\n",
    "* Diffusion Models:\n",
    "These models, like Stable Diffusion and DALL-E 2, excel at generating high-quality images, videos, and even 3D models. They operate by gradually denoising random noise to create realistic outputs.   \n",
    "They are fundamentally different from LLMs in their approach and are particularly powerful for visual content.   \n",
    "* Generative Adversarial Networks (GANs):\n",
    "GANs consist of two neural networks, a generator and a discriminator, that compete against each other. This adversarial process leads to the generation of increasingly realistic data.   \n",
    "GANs are used for various applications, including image synthesis, style transfer, and even generating synthetic data for training other AI models.   \n",
    "* Variational Autoencoders (VAEs):\n",
    "VAEs are used for learning latent representations of data, which can then be used to generate new samples.   \n",
    "They are useful for tasks like image generation, data compression, and anomaly detection.   \n",
    "* Audio Generation Models:\n",
    "Models like MusicLM and AudioLM are capable of generating realistic and creative audio content, including music, speech, and sound effects.   \n",
    "These models are pushing the boundaries of audio synthesis and have applications in music production, sound design, and accessibility.   \n",
    "* 3D Generation:\n",
    "GenAI is increasingly being used to generate 3D models for various applications, including gaming, virtual reality, and product design.   \n",
    "* Molecular Generation:\n",
    "GenAI is used to generate new molecular structures for drug discovery and materials science.   \n",
    "\n",
    "### Applications Beyond Text:\n",
    "\n",
    "* Creative Content Generation:\n",
    "GenAI is transforming creative industries by enabling the generation of art, music, videos, and other forms of media.   \n",
    "* Drug Discovery and Materials Science:\n",
    "GenAI is used to accelerate the development of new drugs and materials by generating and simulating molecular structures.   \n",
    "* Robotics and Automation:\n",
    "GenAI can be used to generate realistic simulations for training robots and developing autonomous systems.   \n",
    "* Game Development:\n",
    "GenAI is used to generate game assets, levels, and even storylines.   \n",
    "* Synthetic Data Generation:\n",
    "GenAI can be used to generate synthetic data for training other AI models, which can be particularly useful when real-world data is scarce or sensitive.   \n",
    "* Code Generation:\n",
    "GenAI can generate computer code, which can increase programmer productivity.\n",
    "\n",
    "### Ethical and Societal Considerations Specific to Non-LLM GenAI:\n",
    "* Deepfakes and Visual Misinformation:\n",
    "Image and video generation models raise concerns about the creation of deepfakes and the spread of visual misinformation.   \n",
    "* Copyright and Intellectual Property:\n",
    "The generation of creative content raises complex questions about copyright and intellectual property.   \n",
    "* Bias in Visual and Audio Data:\n",
    "GenAI models trained on visual and audio data can inherit and amplify biases present in those datasets.   \n",
    "* Environmental Impact of Image and Video Generation:\n",
    "The creation of high definition images and videos requires significant computational resources.   \n",
    "\n",
    "#### The Convergence of Modalities:\n",
    "\n",
    "One of the most exciting areas of GenAI research is the convergence of different modalities. For example, models that can generate images from text descriptions, or generate music from video footage, are pushing the boundaries of what's possible.   \n",
    "In summary, while LLMs are a significant part of the GenAI landscape, it's crucial to recognize the broader range of models and applications that are driving innovation in this field."
   ]
  }
 ],
 "metadata": {
  "kernelspec": {
   "display_name": "venv",
   "language": "python",
   "name": "python3"
  },
  "language_info": {
   "codemirror_mode": {
    "name": "ipython",
    "version": 3
   },
   "file_extension": ".py",
   "mimetype": "text/x-python",
   "name": "python",
   "nbconvert_exporter": "python",
   "pygments_lexer": "ipython3",
   "version": "3.11.0"
  }
 },
 "nbformat": 4,
 "nbformat_minor": 4
}
